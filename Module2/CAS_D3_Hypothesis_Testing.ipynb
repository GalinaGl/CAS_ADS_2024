{
  "nbformat": 4,
  "nbformat_minor": 0,
  "metadata": {
    "kernelspec": {
      "display_name": "Python 3",
      "language": "python",
      "name": "python3"
    },
    "language_info": {
      "codemirror_mode": {
        "name": "ipython",
        "version": 3
      },
      "file_extension": ".py",
      "mimetype": "text/x-python",
      "name": "python",
      "nbconvert_exporter": "python",
      "pygments_lexer": "ipython3",
      "version": "3.7.6"
    },
    "colab": {
      "provenance": [],
      "toc_visible": true
    }
  },
  "cells": [
    {
      "cell_type": "markdown",
      "source": [
        "<a href=\"https://colab.research.google.com/github/KGzB/CAS-Applied-Data-Science/blob/master/Module-2/CAS-D3-Hypothesis-Testing.ipynb\" target=\"_parent\"><img src=\"https://colab.research.google.com/assets/colab-badge.svg\" alt=\"Open In Colab\"/></a>"
      ],
      "metadata": {
        "id": "N9woqo2H0-KM"
      }
    },
    {
      "cell_type": "markdown",
      "metadata": {
        "id": "ASHl3RaZECkV"
      },
      "source": [
        "Notebook 4, Module 2, Statistical Inference for Data Science, CAS Applied Data Science, 2024-08-29, A. Mühlemann, University of Bern.\n",
        "\n",
        "*This notebook is based on the notebook by S. Haug and G. Conti from 2020*"
      ]
    },
    {
      "cell_type": "markdown",
      "metadata": {
        "id": "JUeyQayYECkY"
      },
      "source": [
        "## 4. Hypothesis Testing\n",
        "\n",
        "Practice various tests with the Python scipy stats module.\n",
        "\n",
        "**Average expected study time :** 3x45 min (depending on your background)\n",
        "\n",
        "**Learning outcomes :**\n",
        "\n",
        "- Know the hypothesis testing vocabulary\n",
        "- Can check normality based on Q-Q-Plots\n",
        "- Can perform normality tests of samples (Agostino-Pearson test, Shapiro-Wilk)\n",
        "- Can perform t-Test on a single sample (testing against a given mean, gaussian)\n",
        "- Can perform a Wilcoxon on a single sample (testing against a given median, not gaussian, only symmetric assumption)\n",
        "- Can comparing two groups of data, e.g. treated and control, know which tests are suited for which cases\n",
        "- Can perform some ANOVA tests\n",
        "\n",
        "**Bonus skills**\n",
        "- More Python tricks\n",
        "- Get to know the Python stats module better: https://docs.scipy.org/doc/scipy/reference/stats.html\n",
        "\n",
        "**Literature examples**\n",
        "\n",
        "- https://en.wikipedia.org/wiki/Statistical_hypothesis_testing\n",
        "- http://greenteapress.com/wp/think-stats-2e/ (online book covering most of the CAS Module 2)\n",
        "\n",
        "- For life sciences (bioinformatics) for example\n",
        "https://cran.r-project.org/doc/contrib/Krijnen-IntroBioInfStatistics.pdf\n",
        "- (Particle) Physics\n",
        "http://pdg.lbl.gov/2018/reviews/rpp2018-rev-statistics.pdf\n"
      ]
    },
    {
      "cell_type": "code",
      "metadata": {
        "id": "9hFY4XtvECkZ"
      },
      "source": [
        "import numpy as np\n",
        "import matplotlib.pyplot as plt\n",
        "import pandas as pd\n",
        "import statsmodels.api as sm\n",
        "from scipy import stats"
      ],
      "execution_count": null,
      "outputs": []
    },
    {
      "cell_type": "markdown",
      "metadata": {
        "id": "cL5xkyEUECkb"
      },
      "source": [
        "## 4.1 Summary of the main points"
      ]
    },
    {
      "cell_type": "markdown",
      "metadata": {
        "id": "6GGLvYXzECkc"
      },
      "source": [
        "The hypothesis being tested is called the *null hypothesis*. When doing a statistical test, the test statistic of a sample is calculated and and then we check how probable this value is given the null hypothesis. To this end, we look a the p-value.\n",
        "\n",
        "More precisely, the p-value is the probability of obtaining such a sample if the null hypothesis is true. A significance level of 5% is often used as the threshold where you say, this is so unlikely that I consider the null hypothesis as wrong. However, 5% still means that this happens in 5 out of 100 times.\n",
        "\n",
        "Depending on your working hypothesis $H_1$, you are either interested in a one-, or two-sided test. Roughly speaking you'll use a one-tailed (``` greater, less ```) test, when having a hypothesis about the direction of an effect e.g. group 1 is better that group 2. You'll use a two-tailed test (```two-sided```) when you just want to show that the two groups are different.\n",
        "For more insight on this, check out this link https://stats.idre.ucla.edu/other/mult-pkg/faq/general/faq-what-are-the-differences-between-one-tailed-and-two-tailed-tests/\n",
        "\n",
        "In Python (an R) you can adapt the direction of you test with the argument via\n",
        "\n",
        "```\n",
        "alternative='two-sided', 'less', 'greater'\n",
        "```\n",
        "To avoid confusion the code below below always uses ```alternative='two-sided```.\n",
        "\n"
      ]
    },
    {
      "cell_type": "markdown",
      "metadata": {
        "id": "VZ_xY_wjECki"
      },
      "source": [
        "### Error types and statistical power"
      ]
    },
    {
      "cell_type": "markdown",
      "metadata": {
        "id": "9ZHJS02RECki"
      },
      "source": [
        "- Type I : Reject the null hypothesis due to a fluctuation (false positive)\n",
        "- Type II : Keep the null hypothesis by interpreting a real effect as a fluctuation (false negative)\n",
        "- (Type 0 : Make the right conclusion but asking the wrong question)\n",
        "\n",
        "People may talk about the **statistical power** of their experiment. This is a number between 0 and 1 telling how often your experiment would lead to a type II error. So a high power (close to 1) means rare type II errors. The statistical power is infuenced by your significance criterion, the (physical) magnitude of your effect, the sample size (\"statistics\").\n",
        "\n",
        "### Many tests\n",
        "\n",
        "There are many tests on the market and some or most of them are implemented in Python (or R). It is impossible to look at all the tests that exist, since basically for every scenario there is another test. We therefore focus on a few useful cases. You would look up suiteable tests for your analysis. The important thing is to know what a test assumes (distribution etc) and how to interprete the result and if you can trust the result\n"
      ]
    },
    {
      "cell_type": "markdown",
      "metadata": {
        "id": "qZTVZlkGECki"
      },
      "source": [
        "## 4.2 Normality"
      ]
    },
    {
      "cell_type": "markdown",
      "metadata": {
        "id": "u0VRbqg2kmUT"
      },
      "source": [
        "There are different approaches to deciding whether the normality assumption is satisfied. There are statistical tests as well as grafical approaches. We first look at a graphical approach named Q-Q-Plot\n",
        "\n",
        "### 4.2.1 Q-Q-Plot\n"
      ]
    },
    {
      "cell_type": "markdown",
      "metadata": {
        "id": "tuWZtcAWvLvi"
      },
      "source": [
        "A Q-Q (quantile-quantile) plot, plots the distribution of the data against the expected normal distribution by comparing their quantiles. For normally distributed data, observations should lie approximately on a straight line. If the data is not normal, the points deviate from a straight line.\n",
        "\n",
        "Let us first generate some normal data, to see how a Q-Q-Plot ideally should look like."
      ]
    },
    {
      "cell_type": "code",
      "metadata": {
        "colab": {
          "base_uri": "https://localhost:8080/",
          "height": 449
        },
        "id": "ZLThYnuik7_2",
        "outputId": "5e817442-08c2-487e-9fa5-942946b7140a"
      },
      "source": [
        "n = 100\n",
        "np.random.seed(26082021) # By fixing the seed, you can make the generation reproducible\n",
        "# Generate a data sample of size n\n",
        "a = np.random.normal(2, 5, size=n)\n",
        "fig=sm.qqplot(a, line='s')\n",
        "plt.show()"
      ],
      "execution_count": null,
      "outputs": [
        {
          "output_type": "display_data",
          "data": {
            "text/plain": [
              "<Figure size 640x480 with 1 Axes>"
            ],
            "image/png": "[encoded data removed]"
          },
          "metadata": {}
        }
      ]
    },
    {
      "cell_type": "markdown",
      "metadata": {
        "id": "1nG9vZevnKap"
      },
      "source": [
        "Now let us check what happens if the normality assumption is certainly violated."
      ]
    },
    {
      "cell_type": "code",
      "metadata": {
        "colab": {
          "base_uri": "https://localhost:8080/",
          "height": 449
        },
        "id": "TAdE2xvanWNV",
        "outputId": "10328351-a98c-471d-b270-7b7ddc3b0131"
      },
      "source": [
        "n = 100\n",
        "np.random.seed(26082021) # By fixing the seed, you can make the generation reproducible\n",
        "# Generate a data sample of size n from a chi-square distribution\n",
        "b = np.random.chisquare(df=3, size=n)\n",
        "fig=sm.qqplot(b, line='s')\n",
        "plt.show()"
      ],
      "execution_count": null,
      "outputs": [
        {
          "output_type": "display_data",
          "data": {
            "text/plain": [
              "<Figure size 640x480 with 1 Axes>"
            ],
            "image/png": "[encoded data removed]"
          },
          "metadata": {}
        }
      ]
    },
    {
      "cell_type": "markdown",
      "metadata": {
        "id": "PL8RejGHoHpw"
      },
      "source": [
        "Now let us go back to the balance data set. Often one says that the height is a normally distributed variable. Let us now check whether this could be the case in our data set."
      ]
    },
    {
      "cell_type": "code",
      "metadata": {
        "colab": {
          "base_uri": "https://localhost:8080/",
          "height": 449
        },
        "id": "dzW1okMfopAv",
        "outputId": "07785924-59ba-497f-cc93-5d0ec6a453b4"
      },
      "source": [
        "# Load Data\n",
        "url = \"https://github.com/KGzB/CAS-Applied-Data-Science/blob/master/Module-2/balance.csv?raw=true\"\n",
        "df = pd.read_csv(url,sep=\";\")\n",
        "\n",
        "# make a separate data set containing just the different participants\n",
        "participants = df[['Subject', 'Sex', 'Age', 'Height',\t'Weight']].drop_duplicates()\n",
        "\n",
        "# Q-Q-Plot of height\n",
        "fig=sm.qqplot(participants['Height'], line='s')\n",
        "plt.show()"
      ],
      "execution_count": null,
      "outputs": [
        {
          "output_type": "display_data",
          "data": {
            "text/plain": [
              "<Figure size 640x480 with 1 Axes>"
            ],
            "image/png": "[encoded data removed]"
          },
          "metadata": {}
        }
      ]
    },
    {
      "cell_type": "code",
      "source": [
        "#upload file from computer\n",
        "from google.colab import files\n",
        "uploaded = files.upload()"
      ],
      "metadata": {
        "id": "8JwDMqIliRy8",
        "outputId": "b4fcf8ef-fa93-486f-b50e-a217cd824e22",
        "colab": {
          "base_uri": "https://localhost:8080/",
          "height": 73
        }
      },
      "execution_count": null,
      "outputs": [
        {
          "output_type": "display_data",
          "data": {
            "text/plain": [
              "<IPython.core.display.HTML object>"
            ],
            "text/html": [
              "\n",
              "     <input type=\"file\" id=\"files-9bb03cd8-1be4-4482-b065-3dcf9ed7c16c\" name=\"files[]\" multiple disabled\n",
              "        style=\"border:none\" />\n",
              "     <output id=\"result-9bb03cd8-1be4-4482-b065-3dcf9ed7c16c\">\n",
              "      Upload widget is only available when the cell has been executed in the\n",
              "      current browser session. Please rerun this cell to enable.\n",
              "      </output>\n",
              "      <script>// Copyright 2017 Google LLC\n",
              "//\n",
              "// Licensed under the Apache License, Version 2.0 (the \"License\");\n",
              "// you may not use this file except in compliance with the License.\n",
              "// You may obtain a copy of the License at\n",
              "//\n",
              "//      http://www.apache.org/licenses/LICENSE-2.0\n",
              "//\n",
              "// Unless required by applicable law or agreed to in writing, software\n",
              "// distributed under the License is distributed on an \"AS IS\" BASIS,\n",
              "// WITHOUT WARRANTIES OR CONDITIONS OF ANY KIND, either express or implied.\n",
              "// See the License for the specific language governing permissions and\n",
              "// limitations under the License.\n",
              "\n",
              "/**\n",
              " * @fileoverview Helpers for google.colab Python module.\n",
              " */\n",
              "(function(scope) {\n",
              "function span(text, styleAttributes = {}) {\n",
              "  const element = document.createElement('span');\n",
              "  element.textContent = text;\n",
              "  for (const key of Object.keys(styleAttributes)) {\n",
              "    element.style[key] = styleAttributes[key];\n",
              "  }\n",
              "  return element;\n",
              "}\n",
              "\n",
              "// Max number of bytes which will be uploaded at a time.\n",
              "const MAX_PAYLOAD_SIZE = 100 * 1024;\n",
              "\n",
              "function _uploadFiles(inputId, outputId) {\n",
              "  const steps = uploadFilesStep(inputId, outputId);\n",
              "  const outputElement = document.getElementById(outputId);\n",
              "  // Cache steps on the outputElement to make it available for the next call\n",
              "  // to uploadFilesContinue from Python.\n",
              "  outputElement.steps = steps;\n",
              "\n",
              "  return _uploadFilesContinue(outputId);\n",
              "}\n",
              "\n",
              "// This is roughly an async generator (not supported in the browser yet),\n",
              "// where there are multiple asynchronous steps and the Python side is going\n",
              "// to poll for completion of each step.\n",
              "// This uses a Promise to block the python side on completion of each step,\n",
              "// then passes the result of the previous step as the input to the next step.\n",
              "function _uploadFilesContinue(outputId) {\n",
              "  const outputElement = document.getElementById(outputId);\n",
              "  const steps = outputElement.steps;\n",
              "\n",
              "  const next = steps.next(outputElement.lastPromiseValue);\n",
              "  return Promise.resolve(next.value.promise).then((value) => {\n",
              "    // Cache the last promise value to make it available to the next\n",
              "    // step of the generator.\n",
              "    outputElement.lastPromiseValue = value;\n",
              "    return next.value.response;\n",
              "  });\n",
              "}\n",
              "\n",
              "/**\n",
              " * Generator function which is called between each async step of the upload\n",
              " * process.\n",
              " * @param {string} inputId Element ID of the input file picker element.\n",
              " * @param {string} outputId Element ID of the output display.\n",
              " * @return {!Iterable<!Object>} Iterable of next steps.\n",
              " */\n",
              "function* uploadFilesStep(inputId, outputId) {\n",
              "  const inputElement = document.getElementById(inputId);\n",
              "  inputElement.disabled = false;\n",
              "\n",
              "  const outputElement = document.getElementById(outputId);\n",
              "  outputElement.innerHTML = '';\n",
              "\n",
              "  const pickedPromise = new Promise((resolve) => {\n",
              "    inputElement.addEventListener('change', (e) => {\n",
              "      resolve(e.target.files);\n",
              "    });\n",
              "  });\n",
              "\n",
              "  const cancel = document.createElement('button');\n",
              "  inputElement.parentElement.appendChild(cancel);\n",
              "  cancel.textContent = 'Cancel upload';\n",
              "  const cancelPromise = new Promise((resolve) => {\n",
              "    cancel.onclick = () => {\n",
              "      resolve(null);\n",
              "    };\n",
              "  });\n",
              "\n",
              "  // Wait for the user to pick the files.\n",
              "  const files = yield {\n",
              "    promise: Promise.race([pickedPromise, cancelPromise]),\n",
              "    response: {\n",
              "      action: 'starting',\n",
              "    }\n",
              "  };\n",
              "\n",
              "  cancel.remove();\n",
              "\n",
              "  // Disable the input element since further picks are not allowed.\n",
              "  inputElement.disabled = true;\n",
              "\n",
              "  if (!files) {\n",
              "    return {\n",
              "      response: {\n",
              "        action: 'complete',\n",
              "      }\n",
              "    };\n",
              "  }\n",
              "\n",
              "  for (const file of files) {\n",
              "    const li = document.createElement('li');\n",
              "    li.append(span(file.name, {fontWeight: 'bold'}));\n",
              "    li.append(span(\n",
              "        `(${file.type || 'n/a'}) - ${file.size} bytes, ` +\n",
              "        `last modified: ${\n",
              "            file.lastModifiedDate ? file.lastModifiedDate.toLocaleDateString() :\n",
              "                                    'n/a'} - `));\n",
              "    const percent = span('0% done');\n",
              "    li.appendChild(percent);\n",
              "\n",
              "    outputElement.appendChild(li);\n",
              "\n",
              "    const fileDataPromise = new Promise((resolve) => {\n",
              "      const reader = new FileReader();\n",
              "      reader.onload = (e) => {\n",
              "        resolve(e.target.result);\n",
              "      };\n",
              "      reader.readAsArrayBuffer(file);\n",
              "    });\n",
              "    // Wait for the data to be ready.\n",
              "    let fileData = yield {\n",
              "      promise: fileDataPromise,\n",
              "      response: {\n",
              "        action: 'continue',\n",
              "      }\n",
              "    };\n",
              "\n",
              "    // Use a chunked sending to avoid message size limits. See b/62115660.\n",
              "    let position = 0;\n",
              "    do {\n",
              "      const length = Math.min(fileData.byteLength - position, MAX_PAYLOAD_SIZE);\n",
              "      const chunk = new Uint8Array(fileData, position, length);\n",
              "      position += length;\n",
              "\n",
              "      const base64 = btoa(String.fromCharCode.apply(null, chunk));\n",
              "      yield {\n",
              "        response: {\n",
              "          action: 'append',\n",
              "          file: file.name,\n",
              "          data: base64,\n",
              "        },\n",
              "      };\n",
              "\n",
              "      let percentDone = fileData.byteLength === 0 ?\n",
              "          100 :\n",
              "          Math.round((position / fileData.byteLength) * 100);\n",
              "      percent.textContent = `${percentDone}% done`;\n",
              "\n",
              "    } while (position < fileData.byteLength);\n",
              "  }\n",
              "\n",
              "  // All done.\n",
              "  yield {\n",
              "    response: {\n",
              "      action: 'complete',\n",
              "    }\n",
              "  };\n",
              "}\n",
              "\n",
              "scope.google = scope.google || {};\n",
              "scope.google.colab = scope.google.colab || {};\n",
              "scope.google.colab._files = {\n",
              "  _uploadFiles,\n",
              "  _uploadFilesContinue,\n",
              "};\n",
              "})(self);\n",
              "</script> "
            ]
          },
          "metadata": {}
        },
        {
          "output_type": "stream",
          "name": "stdout",
          "text": [
            "Saving metaphases.csv to metaphases (3).csv\n"
          ]
        }
      ]
    },
    {
      "cell_type": "code",
      "source": [
        "import pandas as pd\n",
        "\n",
        "# Read the data in the sleep.csv file into a dataframe\n",
        "metaphases = pd.read_csv('metaphases.csv', sep=\",\")\n",
        "metaphases"
      ],
      "metadata": {
        "id": "zIVUMJ7NiWrK",
        "outputId": "e26b89e0-3ca4-41cc-efe8-4ec9a0936c1e",
        "colab": {
          "base_uri": "https://localhost:8080/",
          "height": 424
        }
      },
      "execution_count": null,
      "outputs": [
        {
          "output_type": "execute_result",
          "data": {
            "text/plain": [
              "          NT    4d 4OHT    7d 4OHT\n",
              "0   5.555556   8.823529  14.583333\n",
              "1   0.000000   2.857143  10.204082\n",
              "2   6.818182  12.328767   7.894737\n",
              "3   2.500000  27.272727  10.788382\n",
              "4   5.319149  19.047619   4.918033\n",
              "..       ...        ...        ...\n",
              "85  9.375000   7.614213        NaN\n",
              "86  5.555556   7.843137        NaN\n",
              "87  8.333333  12.068966        NaN\n",
              "88  9.154930   9.090909        NaN\n",
              "89  8.045977  13.207547        NaN\n",
              "\n",
              "[90 rows x 3 columns]"
            ],
            "text/html": [
              "\n",
              "  <div id=\"df-83bea295-882d-4552-8bff-d05f77ba873e\" class=\"colab-df-container\">\n",
              "    <div>\n",
              "<style scoped>\n",
              "    .dataframe tbody tr th:only-of-type {\n",
              "        vertical-align: middle;\n",
              "    }\n",
              "\n",
              "    .dataframe tbody tr th {\n",
              "        vertical-align: top;\n",
              "    }\n",
              "\n",
              "    .dataframe thead th {\n",
              "        text-align: right;\n",
              "    }\n",
              "</style>\n",
              "<table border=\"1\" class=\"dataframe\">\n",
              "  <thead>\n",
              "    <tr style=\"text-align: right;\">\n",
              "      <th></th>\n",
              "      <th>NT</th>\n",
              "      <th>4d 4OHT</th>\n",
              "      <th>7d 4OHT</th>\n",
              "    </tr>\n",
              "  </thead>\n",
              "  <tbody>\n",
              "    <tr>\n",
              "      <th>0</th>\n",
              "      <td>5.555556</td>\n",
              "      <td>8.823529</td>\n",
              "      <td>14.583333</td>\n",
              "    </tr>\n",
              "    <tr>\n",
              "      <th>1</th>\n",
              "      <td>0.000000</td>\n",
              "      <td>2.857143</td>\n",
              "      <td>10.204082</td>\n",
              "    </tr>\n",
              "    <tr>\n",
              "      <th>2</th>\n",
              "      <td>6.818182</td>\n",
              "      <td>12.328767</td>\n",
              "      <td>7.894737</td>\n",
              "    </tr>\n",
              "    <tr>\n",
              "      <th>3</th>\n",
              "      <td>2.500000</td>\n",
              "      <td>27.272727</td>\n",
              "      <td>10.788382</td>\n",
              "    </tr>\n",
              "    <tr>\n",
              "      <th>4</th>\n",
              "      <td>5.319149</td>\n",
              "      <td>19.047619</td>\n",
              "      <td>4.918033</td>\n",
              "    </tr>\n",
              "    <tr>\n",
              "      <th>...</th>\n",
              "      <td>...</td>\n",
              "      <td>...</td>\n",
              "      <td>...</td>\n",
              "    </tr>\n",
              "    <tr>\n",
              "      <th>85</th>\n",
              "      <td>9.375000</td>\n",
              "      <td>7.614213</td>\n",
              "      <td>NaN</td>\n",
              "    </tr>\n",
              "    <tr>\n",
              "      <th>86</th>\n",
              "      <td>5.555556</td>\n",
              "      <td>7.843137</td>\n",
              "      <td>NaN</td>\n",
              "    </tr>\n",
              "    <tr>\n",
              "      <th>87</th>\n",
              "      <td>8.333333</td>\n",
              "      <td>12.068966</td>\n",
              "      <td>NaN</td>\n",
              "    </tr>\n",
              "    <tr>\n",
              "      <th>88</th>\n",
              "      <td>9.154930</td>\n",
              "      <td>9.090909</td>\n",
              "      <td>NaN</td>\n",
              "    </tr>\n",
              "    <tr>\n",
              "      <th>89</th>\n",
              "      <td>8.045977</td>\n",
              "      <td>13.207547</td>\n",
              "      <td>NaN</td>\n",
              "    </tr>\n",
              "  </tbody>\n",
              "</table>\n",
              "<p>90 rows × 3 columns</p>\n",
              "</div>\n",
              "    <div class=\"colab-df-buttons\">\n",
              "\n",
              "  <div class=\"colab-df-container\">\n",
              "    <button class=\"colab-df-convert\" onclick=\"convertToInteractive('df-83bea295-882d-4552-8bff-d05f77ba873e')\"\n",
              "            title=\"Convert this dataframe to an interactive table.\"\n",
              "            style=\"display:none;\">\n",
              "\n",
              "  <svg xmlns=\"http://www.w3.org/2000/svg\" height=\"24px\" viewBox=\"0 -960 960 960\">\n",
              "    <path d=\"M120-120v-720h720v720H120Zm60-500h600v-160H180v160Zm220 220h160v-160H400v160Zm0 220h160v-160H400v160ZM180-400h160v-160H180v160Zm440 0h160v-160H620v160ZM180-180h160v-160H180v160Zm440 0h160v-160H620v160Z\"/>\n",
              "  </svg>\n",
              "    </button>\n",
              "\n",
              "  <style>\n",
              "    .colab-df-container {\n",
              "      display:flex;\n",
              "      gap: 12px;\n",
              "    }\n",
              "\n",
              "    .colab-df-convert {\n",
              "      background-color: #E8F0FE;\n",
              "      border: none;\n",
              "      border-radius: 50%;\n",
              "      cursor: pointer;\n",
              "      display: none;\n",
              "      fill: #1967D2;\n",
              "      height: 32px;\n",
              "      padding: 0 0 0 0;\n",
              "      width: 32px;\n",
              "    }\n",
              "\n",
              "    .colab-df-convert:hover {\n",
              "      background-color: #E2EBFA;\n",
              "      box-shadow: 0px 1px 2px rgba(60, 64, 67, 0.3), 0px 1px 3px 1px rgba(60, 64, 67, 0.15);\n",
              "      fill: #174EA6;\n",
              "    }\n",
              "\n",
              "    .colab-df-buttons div {\n",
              "      margin-bottom: 4px;\n",
              "    }\n",
              "\n",
              "    [theme=dark] .colab-df-convert {\n",
              "      background-color: #3B4455;\n",
              "      fill: #D2E3FC;\n",
              "    }\n",
              "\n",
              "    [theme=dark] .colab-df-convert:hover {\n",
              "      background-color: #434B5C;\n",
              "      box-shadow: 0px 1px 3px 1px rgba(0, 0, 0, 0.15);\n",
              "      filter: drop-shadow(0px 1px 2px rgba(0, 0, 0, 0.3));\n",
              "      fill: #FFFFFF;\n",
              "    }\n",
              "  </style>\n",
              "\n",
              "    <script>\n",
              "      const buttonEl =\n",
              "        document.querySelector('#df-83bea295-882d-4552-8bff-d05f77ba873e button.colab-df-convert');\n",
              "      buttonEl.style.display =\n",
              "        google.colab.kernel.accessAllowed ? 'block' : 'none';\n",
              "\n",
              "      async function convertToInteractive(key) {\n",
              "        const element = document.querySelector('#df-83bea295-882d-4552-8bff-d05f77ba873e');\n",
              "        const dataTable =\n",
              "          await google.colab.kernel.invokeFunction('convertToInteractive',\n",
              "                                                    [key], {});\n",
              "        if (!dataTable) return;\n",
              "\n",
              "        const docLinkHtml = 'Like what you see? Visit the ' +\n",
              "          '<a target=\"_blank\" href=https://colab.research.google.com/notebooks/data_table.ipynb>data table notebook</a>'\n",
              "          + ' to learn more about interactive tables.';\n",
              "        element.innerHTML = '';\n",
              "        dataTable['output_type'] = 'display_data';\n",
              "        await google.colab.output.renderOutput(dataTable, element);\n",
              "        const docLink = document.createElement('div');\n",
              "        docLink.innerHTML = docLinkHtml;\n",
              "        element.appendChild(docLink);\n",
              "      }\n",
              "    </script>\n",
              "  </div>\n",
              "\n",
              "\n",
              "<div id=\"df-88feae39-3bde-4089-87c9-de06cbe5ba80\">\n",
              "  <button class=\"colab-df-quickchart\" onclick=\"quickchart('df-88feae39-3bde-4089-87c9-de06cbe5ba80')\"\n",
              "            title=\"Suggest charts\"\n",
              "            style=\"display:none;\">\n",
              "\n",
              "<svg xmlns=\"http://www.w3.org/2000/svg\" height=\"24px\"viewBox=\"0 0 24 24\"\n",
              "     width=\"24px\">\n",
              "    <g>\n",
              "        <path d=\"M19 3H5c-1.1 0-2 .9-2 2v14c0 1.1.9 2 2 2h14c1.1 0 2-.9 2-2V5c0-1.1-.9-2-2-2zM9 17H7v-7h2v7zm4 0h-2V7h2v10zm4 0h-2v-4h2v4z\"/>\n",
              "    </g>\n",
              "</svg>\n",
              "  </button>\n",
              "\n",
              "<style>\n",
              "  .colab-df-quickchart {\n",
              "      --bg-color: #E8F0FE;\n",
              "      --fill-color: #1967D2;\n",
              "      --hover-bg-color: #E2EBFA;\n",
              "      --hover-fill-color: #174EA6;\n",
              "      --disabled-fill-color: #AAA;\n",
              "      --disabled-bg-color: #DDD;\n",
              "  }\n",
              "\n",
              "  [theme=dark] .colab-df-quickchart {\n",
              "      --bg-color: #3B4455;\n",
              "      --fill-color: #D2E3FC;\n",
              "      --hover-bg-color: #434B5C;\n",
              "      --hover-fill-color: #FFFFFF;\n",
              "      --disabled-bg-color: #3B4455;\n",
              "      --disabled-fill-color: #666;\n",
              "  }\n",
              "\n",
              "  .colab-df-quickchart {\n",
              "    background-color: var(--bg-color);\n",
              "    border: none;\n",
              "    border-radius: 50%;\n",
              "    cursor: pointer;\n",
              "    display: none;\n",
              "    fill: var(--fill-color);\n",
              "    height: 32px;\n",
              "    padding: 0;\n",
              "    width: 32px;\n",
              "  }\n",
              "\n",
              "  .colab-df-quickchart:hover {\n",
              "    background-color: var(--hover-bg-color);\n",
              "    box-shadow: 0 1px 2px rgba(60, 64, 67, 0.3), 0 1px 3px 1px rgba(60, 64, 67, 0.15);\n",
              "    fill: var(--button-hover-fill-color);\n",
              "  }\n",
              "\n",
              "  .colab-df-quickchart-complete:disabled,\n",
              "  .colab-df-quickchart-complete:disabled:hover {\n",
              "    background-color: var(--disabled-bg-color);\n",
              "    fill: var(--disabled-fill-color);\n",
              "    box-shadow: none;\n",
              "  }\n",
              "\n",
              "  .colab-df-spinner {\n",
              "    border: 2px solid var(--fill-color);\n",
              "    border-color: transparent;\n",
              "    border-bottom-color: var(--fill-color);\n",
              "    animation:\n",
              "      spin 1s steps(1) infinite;\n",
              "  }\n",
              "\n",
              "  @keyframes spin {\n",
              "    0% {\n",
              "      border-color: transparent;\n",
              "      border-bottom-color: var(--fill-color);\n",
              "      border-left-color: var(--fill-color);\n",
              "    }\n",
              "    20% {\n",
              "      border-color: transparent;\n",
              "      border-left-color: var(--fill-color);\n",
              "      border-top-color: var(--fill-color);\n",
              "    }\n",
              "    30% {\n",
              "      border-color: transparent;\n",
              "      border-left-color: var(--fill-color);\n",
              "      border-top-color: var(--fill-color);\n",
              "      border-right-color: var(--fill-color);\n",
              "    }\n",
              "    40% {\n",
              "      border-color: transparent;\n",
              "      border-right-color: var(--fill-color);\n",
              "      border-top-color: var(--fill-color);\n",
              "    }\n",
              "    60% {\n",
              "      border-color: transparent;\n",
              "      border-right-color: var(--fill-color);\n",
              "    }\n",
              "    80% {\n",
              "      border-color: transparent;\n",
              "      border-right-color: var(--fill-color);\n",
              "      border-bottom-color: var(--fill-color);\n",
              "    }\n",
              "    90% {\n",
              "      border-color: transparent;\n",
              "      border-bottom-color: var(--fill-color);\n",
              "    }\n",
              "  }\n",
              "</style>\n",
              "\n",
              "  <script>\n",
              "    async function quickchart(key) {\n",
              "      const quickchartButtonEl =\n",
              "        document.querySelector('#' + key + ' button');\n",
              "      quickchartButtonEl.disabled = true;  // To prevent multiple clicks.\n",
              "      quickchartButtonEl.classList.add('colab-df-spinner');\n",
              "      try {\n",
              "        const charts = await google.colab.kernel.invokeFunction(\n",
              "            'suggestCharts', [key], {});\n",
              "      } catch (error) {\n",
              "        console.error('Error during call to suggestCharts:', error);\n",
              "      }\n",
              "      quickchartButtonEl.classList.remove('colab-df-spinner');\n",
              "      quickchartButtonEl.classList.add('colab-df-quickchart-complete');\n",
              "    }\n",
              "    (() => {\n",
              "      let quickchartButtonEl =\n",
              "        document.querySelector('#df-88feae39-3bde-4089-87c9-de06cbe5ba80 button');\n",
              "      quickchartButtonEl.style.display =\n",
              "        google.colab.kernel.accessAllowed ? 'block' : 'none';\n",
              "    })();\n",
              "  </script>\n",
              "</div>\n",
              "\n",
              "  <div id=\"id_81bc9dfc-9113-41fc-8e6a-b174201025e5\">\n",
              "    <style>\n",
              "      .colab-df-generate {\n",
              "        background-color: #E8F0FE;\n",
              "        border: none;\n",
              "        border-radius: 50%;\n",
              "        cursor: pointer;\n",
              "        display: none;\n",
              "        fill: #1967D2;\n",
              "        height: 32px;\n",
              "        padding: 0 0 0 0;\n",
              "        width: 32px;\n",
              "      }\n",
              "\n",
              "      .colab-df-generate:hover {\n",
              "        background-color: #E2EBFA;\n",
              "        box-shadow: 0px 1px 2px rgba(60, 64, 67, 0.3), 0px 1px 3px 1px rgba(60, 64, 67, 0.15);\n",
              "        fill: #174EA6;\n",
              "      }\n",
              "\n",
              "      [theme=dark] .colab-df-generate {\n",
              "        background-color: #3B4455;\n",
              "        fill: #D2E3FC;\n",
              "      }\n",
              "\n",
              "      [theme=dark] .colab-df-generate:hover {\n",
              "        background-color: #434B5C;\n",
              "        box-shadow: 0px 1px 3px 1px rgba(0, 0, 0, 0.15);\n",
              "        filter: drop-shadow(0px 1px 2px rgba(0, 0, 0, 0.3));\n",
              "        fill: #FFFFFF;\n",
              "      }\n",
              "    </style>\n",
              "    <button class=\"colab-df-generate\" onclick=\"generateWithVariable('metaphases')\"\n",
              "            title=\"Generate code using this dataframe.\"\n",
              "            style=\"display:none;\">\n",
              "\n",
              "  <svg xmlns=\"http://www.w3.org/2000/svg\" height=\"24px\"viewBox=\"0 0 24 24\"\n",
              "       width=\"24px\">\n",
              "    <path d=\"M7,19H8.4L18.45,9,17,7.55,7,17.6ZM5,21V16.75L18.45,3.32a2,2,0,0,1,2.83,0l1.4,1.43a1.91,1.91,0,0,1,.58,1.4,1.91,1.91,0,0,1-.58,1.4L9.25,21ZM18.45,9,17,7.55Zm-12,3A5.31,5.31,0,0,0,4.9,8.1,5.31,5.31,0,0,0,1,6.5,5.31,5.31,0,0,0,4.9,4.9,5.31,5.31,0,0,0,6.5,1,5.31,5.31,0,0,0,8.1,4.9,5.31,5.31,0,0,0,12,6.5,5.46,5.46,0,0,0,6.5,12Z\"/>\n",
              "  </svg>\n",
              "    </button>\n",
              "    <script>\n",
              "      (() => {\n",
              "      const buttonEl =\n",
              "        document.querySelector('#id_81bc9dfc-9113-41fc-8e6a-b174201025e5 button.colab-df-generate');\n",
              "      buttonEl.style.display =\n",
              "        google.colab.kernel.accessAllowed ? 'block' : 'none';\n",
              "\n",
              "      buttonEl.onclick = () => {\n",
              "        google.colab.notebook.generateWithVariable('metaphases');\n",
              "      }\n",
              "      })();\n",
              "    </script>\n",
              "  </div>\n",
              "\n",
              "    </div>\n",
              "  </div>\n"
            ],
            "application/vnd.google.colaboratory.intrinsic+json": {
              "type": "dataframe",
              "variable_name": "metaphases",
              "summary": "{\n  \"name\": \"metaphases\",\n  \"rows\": 90,\n  \"fields\": [\n    {\n      \"column\": \"NT\",\n      \"properties\": {\n        \"dtype\": \"number\",\n        \"std\": 3.763828336533878,\n        \"min\": 0.0,\n        \"max\": 16.66666667,\n        \"num_unique_values\": 69,\n        \"samples\": [\n          4.918032787,\n          5.555555556,\n          3.75\n        ],\n        \"semantic_type\": \"\",\n        \"description\": \"\"\n      }\n    },\n    {\n      \"column\": \"4d 4OHT\",\n      \"properties\": {\n        \"dtype\": \"number\",\n        \"std\": 4.832582105662794,\n        \"min\": 0.0,\n        \"max\": 27.27272727,\n        \"num_unique_values\": 82,\n        \"samples\": [\n          7.692307692,\n          8.823529412,\n          11.76470588\n        ],\n        \"semantic_type\": \"\",\n        \"description\": \"\"\n      }\n    },\n    {\n      \"column\": \"7d 4OHT\",\n      \"properties\": {\n        \"dtype\": \"number\",\n        \"std\": 6.226041663782607,\n        \"min\": 3.703703704,\n        \"max\": 34.09090909,\n        \"num_unique_values\": 47,\n        \"samples\": [\n          30.0,\n          34.09090909,\n          32.35294118\n        ],\n        \"semantic_type\": \"\",\n        \"description\": \"\"\n      }\n    }\n  ]\n}"
            }
          },
          "metadata": {},
          "execution_count": 28
        }
      ]
    },
    {
      "cell_type": "markdown",
      "metadata": {
        "id": "V3rUNlU0pJJZ"
      },
      "source": [
        "The tails seem to differ a bit from a normal distribution. Moreover, there seems to be some small pattern present, since the sample quantiles are sometimes systematically above and the systematically below the line. When one is not sure on how the decide, it's helpful go generate some normal samples of the same size and compare their Q-Q-Plots to the one at hand."
      ]
    },
    {
      "cell_type": "code",
      "metadata": {
        "colab": {
          "base_uri": "https://localhost:8080/",
          "height": 449
        },
        "id": "eSOXT4rEpjUm",
        "outputId": "f4703a32-03ed-4754-a43e-3d933ad95805"
      },
      "source": [
        "# Generate a data sample of size n\n",
        "c = np.random.normal(participants['Height'].mean(), participants['Height'].std(), size=len(participants['Height']))\n",
        "fig=sm.qqplot(c, line='s')\n",
        "plt.show()"
      ],
      "execution_count": null,
      "outputs": [
        {
          "output_type": "display_data",
          "data": {
            "text/plain": [
              "<Figure size 640x480 with 1 Axes>"
            ],
            "image/png": "[encoded data removed]"
          },
          "metadata": {}
        }
      ]
    },
    {
      "cell_type": "markdown",
      "metadata": {
        "id": "sVftxaTGp7fA"
      },
      "source": [
        "If we rerun the above code several times, it seems that a normality assumption is justified."
      ]
    },
    {
      "cell_type": "markdown",
      "metadata": {
        "id": "SYuEAGFGqHWg"
      },
      "source": [
        "### 4.2.2 Normality test"
      ]
    },
    {
      "cell_type": "markdown",
      "metadata": {
        "id": "7T0jr3FoECki"
      },
      "source": [
        "An alternative to Q-Q-Plots is provided by normality tests.\n",
        "\n",
        "They can be performed for each column of data. Each normality test reports a p-value that answers this question:\n",
        "\n",
        "If you randomly sample from a Gaussian population, what is the probability of obtaining a sample that deviates from a Gaussian distribution as much (or more so) as this sample does?\n",
        "\n",
        "Normality tests are not good for small samples (<10-20 values). You can do it, but the interpration of the output is not straight forward.\n",
        "\n",
        "There are several normality tests in the Python stats module:\n",
        "- D’Agostino-Pearson\n",
        "- Shapiro-Wilk\n",
        "- Kolomogorv-Smirnov\n",
        "\n",
        "Many people prefer to use the first one. But the others are also widely used. Personally, I often work with Q-Q-Plots because that way I get a better impression on what areas might be critical and what not. But many people prefer tests because the decision is easier to make, however that may also lead to a false sense of security.\n",
        "\n",
        "What is a bit different with normality test compared to other tests, is that we cannot test for normality but rather against normality. Meaning that if the p-value is small that indicates that the data is **not** normally distributed. Hence, we are rather hoping for a p-value close to 1.\n",
        "\n",
        "https://docs.scipy.org/doc/scipy/reference/stats.html\n"
      ]
    },
    {
      "cell_type": "markdown",
      "metadata": {
        "id": "wEphSKf7ECkj"
      },
      "source": [
        "Let us perform the D’Agostino-Pearson test for examples we considered with the Q-Q-Plots. First the data generated from a normal distribution."
      ]
    },
    {
      "cell_type": "code",
      "metadata": {
        "id": "_xdhRhjyECkk",
        "colab": {
          "base_uri": "https://localhost:8080/"
        },
        "outputId": "87899f4e-9079-4fa8-aa38-f1324a06243e"
      },
      "source": [
        "k2, p = stats.normaltest(a) # D Agostino-Pearson. The method returns the test statistic value and the p-value\n",
        "alpha = 0.001 # Rejection criterion defined by you\n",
        "print('Alpha = ',alpha)\n",
        "print('p = ',p)\n",
        "if p < alpha:  # null hypothesis: x comes from a normal distribution\n",
        "     print(\"The null hypothesis can be rejected\")\n",
        "else:\n",
        "  print(\"The null hypothesis cannot be rejected\")"
      ],
      "execution_count": null,
      "outputs": [
        {
          "output_type": "stream",
          "name": "stdout",
          "text": [
            "Alpha =  0.001\n",
            "p =  0.23116477867149146\n",
            "The null hypothesis cannot be rejected\n"
          ]
        }
      ]
    },
    {
      "cell_type": "markdown",
      "metadata": {
        "id": "jYTAwFUzECkk"
      },
      "source": [
        "This is not very surprising as we generated the data from a normal distribution. Now let us look at the data generated from a Chi-square distribution."
      ]
    },
    {
      "cell_type": "code",
      "metadata": {
        "colab": {
          "base_uri": "https://localhost:8080/"
        },
        "id": "ovPFMCCQs3Oc",
        "outputId": "36748c82-8fba-4354-9549-448d079ac25f"
      },
      "source": [
        "k2, p = stats.normaltest(b) # D Agostino-Pearson. The method returns the test statistic value and the p-value\n",
        "alpha = 0.001 # Rejection criterion defined by you\n",
        "print('Alpha = ',alpha)\n",
        "print('p = ',p)\n",
        "if p < alpha:  # null hypothesis: x comes from a normal distribution\n",
        "     print(\"The null hypothesis can be rejected\")\n",
        "else:\n",
        "  print(\"The null hypothesis cannot be rejected\")"
      ],
      "execution_count": null,
      "outputs": [
        {
          "output_type": "stream",
          "name": "stdout",
          "text": [
            "Alpha =  0.001\n",
            "p =  0.0008658946948332712\n",
            "The null hypothesis can be rejected\n"
          ]
        }
      ]
    },
    {
      "cell_type": "markdown",
      "metadata": {
        "id": "DtgNzuf0tKV7"
      },
      "source": [
        "Indeed the normality test suggest that we should reject the normality assumption. Finally let us looks again at *Height* from our dataframe."
      ]
    },
    {
      "cell_type": "code",
      "metadata": {
        "colab": {
          "base_uri": "https://localhost:8080/"
        },
        "id": "2uHxrf2qtmrv",
        "outputId": "61a29598-6104-4c09-ae78-2885af3ee6a3"
      },
      "source": [
        "k2, p = stats.normaltest(participants['Height']) # D Agostino-Pearson. The method returns the test statistic value and the p-value\n",
        "alpha = 0.001 # Rejection criterion defined by you\n",
        "print('Alpha = ',alpha)\n",
        "print('p = ',p)\n",
        "if p < alpha:  # null hypothesis: x comes from a normal distribution\n",
        "     print(\"The null hypothesis can be rejected\")\n",
        "else:\n",
        "  print(\"The null hypothesis cannot be rejected\")"
      ],
      "execution_count": null,
      "outputs": [
        {
          "output_type": "stream",
          "name": "stdout",
          "text": [
            "Alpha =  0.001\n",
            "p =  0.16152714458037018\n",
            "The null hypothesis cannot be rejected\n"
          ]
        }
      ]
    },
    {
      "cell_type": "markdown",
      "source": [],
      "metadata": {
        "id": "BGryFVwSGf6q"
      }
    },
    {
      "cell_type": "markdown",
      "metadata": {
        "id": "EgbUYIcEtryT"
      },
      "source": [
        "Considering the Q-Q-Plot we concluded that the normality assumption is justified. The D’Agostino-Pearson test confirms this conclusion.\n"
      ]
    },
    {
      "cell_type": "markdown",
      "metadata": {
        "id": "Hb5fcXBKECkm"
      },
      "source": [
        "What does this p-value mean?"
      ]
    },
    {
      "cell_type": "markdown",
      "metadata": {
        "id": "3_eLQ3lEECkm"
      },
      "source": [
        "We can also try the shapiro test that the stat module offers:"
      ]
    },
    {
      "cell_type": "code",
      "metadata": {
        "id": "vn2rnlUNECkm",
        "colab": {
          "base_uri": "https://localhost:8080/"
        },
        "outputId": "31c82078-5a47-403d-b339-9e5365adc72f"
      },
      "source": [
        "s,p = stats.shapiro(participants['Height'])\n",
        "print('Test statistic = ',s,' p-value =',p)"
      ],
      "execution_count": null,
      "outputs": [
        {
          "output_type": "stream",
          "name": "stdout",
          "text": [
            "Test statistic =  0.9667359772626742  p-value = 0.2822959154977096\n"
          ]
        }
      ]
    },
    {
      "cell_type": "markdown",
      "metadata": {
        "id": "h4ulhAzfvTpL"
      },
      "source": [
        "## 4.3 One-sample tests\n",
        "Having seen how we can check for normality let us introduce the tests seen on the slides.\n",
        "More details on the specific tests will be given in the presentations tomorrow. Nonetheless it's helpful to have an overview on how the tests are performed.\n",
        "To illustrate the 1-sample tests we again look at the feature *Height*. The avarage Swiss male has a height of 177cm. Let us now check whether the male Australian participants in this experiments do have the same average heigth as a Swiss male."
      ]
    },
    {
      "cell_type": "markdown",
      "metadata": {
        "id": "P2ZhBJitECko"
      },
      "source": [
        "### 4.3.1 t-Test\n",
        "\n",
        "The assumptions on the onesample t-Test are that the data stems from a random draw and that the variable is approximately normal distribution. With our previous considerations about normality, it is therefore justified to perform a t-test."
      ]
    },
    {
      "cell_type": "code",
      "metadata": {
        "id": "5vrPf86CECko",
        "colab": {
          "base_uri": "https://localhost:8080/"
        },
        "outputId": "cf193555-3be8-4a1e-ae9d-8b83c8bc4629"
      },
      "source": [
        "stats.ttest_1samp(a=participants[participants['Sex']=='male']['Height'],popmean=177, alternative='two-sided')"
      ],
      "execution_count": null,
      "outputs": [
        {
          "output_type": "execute_result",
          "data": {
            "text/plain": [
              "TtestResult(statistic=2.4795712861170087, pvalue=0.022695828454899942, df=19)"
            ]
          },
          "metadata": {},
          "execution_count": 11
        }
      ]
    },
    {
      "cell_type": "markdown",
      "metadata": {
        "id": "CRsNnpqfECko"
      },
      "source": [
        "**Interpretation:** With a certainty of 95% we reject the null hypothesis that the poulation has an real mean height of 177cm."
      ]
    },
    {
      "cell_type": "markdown",
      "metadata": {
        "id": "pwkZAIPxwjNA"
      },
      "source": [
        "### 4.3.2 Wilcoxon signed rank test"
      ]
    },
    {
      "cell_type": "markdown",
      "metadata": {
        "id": "TN8LqHyI1OVk"
      },
      "source": [
        "If normality is not satisfied but the distribution can be assumed to be symmetric we can perform a one-sample Wilcoxon signed rank test. It works similar to the t-test but we have to subtract the guessed population mean.\n",
        "\n",
        "https://docs.scipy.org/doc/scipy/reference/generated/scipy.stats.wilcoxon.html#scipy.stats.wilcoxon"
      ]
    },
    {
      "cell_type": "code",
      "metadata": {
        "colab": {
          "base_uri": "https://localhost:8080/"
        },
        "id": "VckwDkm6w8IN",
        "outputId": "db105d70-049c-4b71-a877-676b98adf3d4"
      },
      "source": [
        "stats.wilcoxon(participants[participants['Sex']=='male']['Height']-177, alternative='two-sided')"
      ],
      "execution_count": null,
      "outputs": [
        {
          "output_type": "execute_result",
          "data": {
            "text/plain": [
              "WilcoxonResult(statistic=38.0, pvalue=0.03841859384167645)"
            ]
          },
          "metadata": {},
          "execution_count": 12
        }
      ]
    },
    {
      "cell_type": "markdown",
      "source": [
        "We come to the same conclusion as with the t-Test. However, when looking at the p-value we can see, that the Wilcoxon signed rank test is more conservative than the t-test."
      ],
      "metadata": {
        "id": "0o4TJ0RfIy0g"
      }
    },
    {
      "cell_type": "markdown",
      "metadata": {
        "id": "Qit9RJk00cCz"
      },
      "source": [
        "### 4.3.3 Sign test"
      ]
    },
    {
      "cell_type": "markdown",
      "metadata": {
        "id": "lBWPXA0r1myG"
      },
      "source": [
        "If the distribtuion is neither normal nor symmetric we can perform a sign-test. For some reason, only the two-sided version is implemented. But the sign-test is fairly easy to calculate by hand.\n",
        "\n",
        "https://www.statsmodels.org/stable/generated/statsmodels.stats.descriptivestats.sign_test.html\n",
        "\n",
        "https://en.wikipedia.org/wiki/Sign_test"
      ]
    },
    {
      "cell_type": "code",
      "metadata": {
        "colab": {
          "base_uri": "https://localhost:8080/"
        },
        "id": "BF21xkVd0lj_",
        "outputId": "fa8ca8fc-a21f-42c7-84d9-18c7c805e7c9"
      },
      "source": [
        "import statsmodels.stats.descriptivestats as dstat\n",
        "dstat.sign_test(participants[participants['Sex']=='male']['Height'], mu0=177)"
      ],
      "execution_count": null,
      "outputs": [
        {
          "output_type": "execute_result",
          "data": {
            "text/plain": [
              "(2.0, 0.480682373046875)"
            ]
          },
          "metadata": {},
          "execution_count": 13
        }
      ]
    },
    {
      "cell_type": "markdown",
      "source": [
        "This test is even more concervative. We can see that in this case, we could not reject the null hypothesis."
      ],
      "metadata": {
        "id": "w7EH2CA-JHPd"
      }
    },
    {
      "cell_type": "markdown",
      "metadata": {
        "id": "h20vp8UhECkp"
      },
      "source": [
        "## 4.4 Two-sample Tests"
      ]
    },
    {
      "cell_type": "markdown",
      "metadata": {
        "id": "m6x_0k2MECkq"
      },
      "source": [
        "In many experiments one uses two groups, e.g. a treated group and a control group which is not treated. The goal is then to check the effect of the treatment.\n",
        "\n",
        "One way to answer this, is to check how much the treated group differs from the control group. Python stats module offer several tests for do this.\n",
        "\n",
        "If the data is \"paired\", this can be used in the tests (they get better because there is more \"information or structure\" in the data). So we need to know what paired data is in order to choose the right test.\n",
        "\n",
        "**Paired/related data**\n",
        "- Repeated measurements on the same object/individual, e.g. before and after treatment\n",
        "\n",
        "**Unpaired/independent data**\n",
        "- Independent, e.g. from separate individuals"
      ]
    },
    {
      "cell_type": "markdown",
      "metadata": {
        "id": "iHeJlBTNECkq"
      },
      "source": [
        "### 4.4.1 t-test for normally distributed unpaired data with not assuming equal variance"
      ]
    },
    {
      "cell_type": "markdown",
      "metadata": {
        "id": "RfRbY5ciECkq"
      },
      "source": [
        "Let us perform a test height to compare the height of the participants with respect to the genders. To perform a t-test we should argue why it reasonable that out data is normally distributed.\n",
        "https://docs.scipy.org/doc/scipy/reference/generated/scipy.stats.ttest_ind.html#scipy.stats.ttest_ind"
      ]
    },
    {
      "cell_type": "code",
      "metadata": {
        "id": "cZboud7GECkq",
        "colab": {
          "base_uri": "https://localhost:8080/"
        },
        "outputId": "4845da79-b87e-4229-fceb-51c574693f0a"
      },
      "source": [
        "k2, p = stats.normaltest(participants[participants['Sex']=='male']['Height']) # D Agostino-Pearson test for male height\n",
        "print(\"p-value = %1.2f\" % p)"
      ],
      "execution_count": null,
      "outputs": [
        {
          "output_type": "stream",
          "name": "stdout",
          "text": [
            "p-value = 0.89\n"
          ]
        }
      ]
    },
    {
      "cell_type": "code",
      "source": [
        "k2, p = stats.normaltest(participants[participants['Sex']=='female']['Height']) # D Agostino-Pearson test for female height\n",
        "print(\"p-value = %1.2f\" % p)"
      ],
      "metadata": {
        "colab": {
          "base_uri": "https://localhost:8080/"
        },
        "id": "xY91G0XEKThC",
        "outputId": "39390660-9212-4245-ee1a-e8e8f9dd81e4"
      },
      "execution_count": null,
      "outputs": [
        {
          "output_type": "stream",
          "name": "stdout",
          "text": [
            "p-value = 0.02\n"
          ]
        }
      ]
    },
    {
      "cell_type": "markdown",
      "metadata": {
        "id": "OgykAA_ZECkq"
      },
      "source": [
        "The height of the females is likely not normally distributied. Thus, we are not justified to perform a t-Test. We nevertheless perform one here, so that you can see how it is done in Python. For this test we furthermore assume that the variance/standard deviation of the height is different for both genders."
      ]
    },
    {
      "cell_type": "code",
      "metadata": {
        "id": "3sjktUvqECkq",
        "colab": {
          "base_uri": "https://localhost:8080/"
        },
        "outputId": "944c904f-7506-4543-a147-6251aad28b6e"
      },
      "source": [
        "stats.ttest_ind(participants[participants['Sex']=='male']['Height'],\n",
        "                participants[participants['Sex']=='female']['Height'],\n",
        "                equal_var = False, alternative='two-sided') # False means we don't assume equal variances (Welsch's t-test)"
      ],
      "execution_count": null,
      "outputs": [
        {
          "output_type": "execute_result",
          "data": {
            "text/plain": [
              "TtestResult(statistic=7.315209799153602, pvalue=1.9610869691054646e-08, df=33.47945015319325)"
            ]
          },
          "metadata": {},
          "execution_count": 16
        }
      ]
    },
    {
      "cell_type": "markdown",
      "metadata": {
        "id": "nCx8cjjHECkr"
      },
      "source": [
        "**Interpretation :** It is extremly unlikely that these samples would come from a population with the same mean since the p-value is very small."
      ]
    },
    {
      "cell_type": "markdown",
      "metadata": {
        "id": "rAZdi_FzECks"
      },
      "source": [
        "### 4.4.2 t-test for normally distributed unpaired data assuming equal variance"
      ]
    },
    {
      "cell_type": "markdown",
      "source": [
        "If we are in the same case as above but have reason to believe that the variance / standard deviation of the height is equal in both genders, we can perform a t-test for this case."
      ],
      "metadata": {
        "id": "b54NUzFELUkj"
      }
    },
    {
      "cell_type": "code",
      "metadata": {
        "id": "Zb158UTfECks",
        "colab": {
          "base_uri": "https://localhost:8080/"
        },
        "outputId": "e4e23e94-3b41-49fd-9c0b-858fd9e38e08"
      },
      "source": [
        "stats.ttest_ind(participants[participants['Sex']=='male']['Height'],\n",
        "                participants[participants['Sex']=='female']['Height'],\n",
        "                equal_var = True, alternative='two-sided') # False means we don't assume equal variances (Welsch's t-test)"
      ],
      "execution_count": null,
      "outputs": [
        {
          "output_type": "execute_result",
          "data": {
            "text/plain": [
              "TtestResult(statistic=7.315209799153601, pvalue=9.248533903921777e-09, df=38.0)"
            ]
          },
          "metadata": {},
          "execution_count": 17
        }
      ]
    },
    {
      "cell_type": "markdown",
      "metadata": {
        "id": "5OPZ9_LZECks"
      },
      "source": [
        "**Interpretation :** It is extremly unlikely that these samples would come from a population with the same mean and the same variance.\n",
        "\n",
        "\n"
      ]
    },
    {
      "cell_type": "markdown",
      "metadata": {
        "id": "yvWT7ZE0ECks"
      },
      "source": [
        "### 4.4.3 Mann-Whitney U for *not* normally distributed unpaired data"
      ]
    },
    {
      "cell_type": "markdown",
      "metadata": {
        "id": "-2kU2KLJECkt"
      },
      "source": [
        "Compute the Mann-Whitney U test on samples x and y. Only use with more than 20 data points\n",
        "http://localhost:8888/notebooks/work/SDA-4-Hypothesis-Testing.ipynb#t-Test\n",
        "\n",
        "We have checked for normality of the height within both genders and seen that the female heights in our sample are not normally distributed. Thus, it is actually not justified to perform a t-test. The non-parametric alternative is the Mann-Whitney-U-test"
      ]
    },
    {
      "cell_type": "code",
      "metadata": {
        "id": "VsT1ZGpvECkt",
        "colab": {
          "base_uri": "https://localhost:8080/"
        },
        "outputId": "35c9af4e-2921-4c73-c612-aced40ba150a"
      },
      "source": [
        "stats.mannwhitneyu(participants[participants['Sex']=='male']['Height'],\n",
        "                   participants[participants['Sex']=='female']['Height'],\n",
        "                   alternative='two-sided')"
      ],
      "execution_count": null,
      "outputs": [
        {
          "output_type": "execute_result",
          "data": {
            "text/plain": [
              "MannwhitneyuResult(statistic=392.0, pvalue=2.1747955363354372e-07)"
            ]
          },
          "metadata": {},
          "execution_count": 19
        }
      ]
    },
    {
      "cell_type": "markdown",
      "metadata": {
        "id": "6ZKz1VRTECku"
      },
      "source": [
        "Again we observe a very small p-value suggesting that the expected height of males differs of the expected height of females."
      ]
    },
    {
      "cell_type": "markdown",
      "metadata": {
        "id": "oKEUj5LPECkw"
      },
      "source": [
        "### 4.4.4 t-test for normally distributed paired data"
      ]
    },
    {
      "cell_type": "markdown",
      "metadata": {
        "id": "b-DhgPqAECkw"
      },
      "source": [
        "Let us now move on to paired data. This is for example the case if we want to compare the balance scores on the different surfaces. This is paired data because all participants had to all experiments."
      ]
    },
    {
      "cell_type": "markdown",
      "metadata": {
        "id": "dDRNX8ECECkw"
      },
      "source": [
        "The normality assumption is clearly not fulfilled because the score only takes values 1-4. Nontheless we perform here first a t-test so that you can see how it's done in Python."
      ]
    },
    {
      "cell_type": "code",
      "metadata": {
        "id": "O05zmU6GECkx",
        "colab": {
          "base_uri": "https://localhost:8080/"
        },
        "outputId": "fc3ac666-243b-4ab2-c058-a483692331c1"
      },
      "source": [
        "normal = df[df['Surface']=='norm']\n",
        "foam = df[df['Surface']=='foam']\n",
        "\n",
        "stats.ttest_rel(normal['CTSIB'],foam['CTSIB'], alternative='two-sided')"
      ],
      "execution_count": null,
      "outputs": [
        {
          "output_type": "execute_result",
          "data": {
            "text/plain": [
              "TtestResult(statistic=-21.030247639341116, pvalue=2.7665007095339303e-56, df=239)"
            ]
          },
          "metadata": {},
          "execution_count": 20
        }
      ]
    },
    {
      "cell_type": "markdown",
      "metadata": {
        "id": "5CnUZyieECkx"
      },
      "source": [
        "As expected the p-value is very small meaning that the expected balance score differs between the two surfaces.\n"
      ]
    },
    {
      "cell_type": "markdown",
      "metadata": {
        "id": "E8CakeRIECkx"
      },
      "source": [
        "### 4.4.4 Wilcoxon signed-rank test for *not* normally distributed paired data"
      ]
    },
    {
      "cell_type": "markdown",
      "metadata": {
        "id": "EKgem_7-ECky"
      },
      "source": [
        "The Wilcoxon signed-rank test is a non-parametric statistical hypothesis test used to compare two related samples, matched samples, or repeated measurements on a single sample to assess whether their population mean ranks differ (i.e. it is a paired difference test). It can be used as an alternative to the paired Student's t-test, t-test for matched pairs, or the t-test for dependent samples when the population cannot be assumed to be normally distributed.\n",
        "https://docs.scipy.org/doc/scipy/reference/generated/scipy.stats.wilcoxon.html#scipy.stats.wilcoxon\n",
        "\n",
        "As previously argued when considering the *CTSIB*, it makes no sense to assume normality. Thus, a much better suited test for this question is a Wilcoxon signed-rank test."
      ]
    },
    {
      "cell_type": "code",
      "metadata": {
        "id": "7iHy2WtoECky",
        "colab": {
          "base_uri": "https://localhost:8080/"
        },
        "outputId": "5ec48860-9695-4ad4-b62c-5ea36acaf0e5"
      },
      "source": [
        "stats.wilcoxon(normal['CTSIB'],foam['CTSIB'], alternative='two-sided')"
      ],
      "execution_count": null,
      "outputs": [
        {
          "output_type": "execute_result",
          "data": {
            "text/plain": [
              "WilcoxonResult(statistic=0.0, pvalue=1.0942711294559511e-35)"
            ]
          },
          "metadata": {},
          "execution_count": 21
        }
      ]
    },
    {
      "cell_type": "markdown",
      "source": [
        "Again p-value is very small meaning that the expected balance score differs between the two surfaces.\n"
      ],
      "metadata": {
        "id": "WoRiNTD7PEKZ"
      }
    },
    {
      "cell_type": "markdown",
      "metadata": {
        "id": "nkQ1cYVZECky"
      },
      "source": [
        "## 4.5 ANOVA tests (analysis of variance)\n",
        "\n",
        "Python stats module provides a one-way Anova test. The one-way ANOVA tests the null hypothesis that two or more groups have the same population mean (a generalisation of the t-test to more than two samples). The test is applied to samples from two or more groups, possibly with differing sizes.\n",
        "\n",
        "Please read the documentation about assumptions before using it:\n",
        "https://docs.scipy.org/doc/scipy/reference/generated/scipy.stats.f_oneway.html#scipy.stats.f_oneway\n",
        "\n",
        "When we want to compare the balance score with respect to vision we have three groups (open, closed, dome). Thus, the above tests are not suitable. An alternative would be an ANOVA (which also relies on normality!). We should actually perform a repeated measures ANOVA here, because all participants were evaluated with all types of vision. But this goes beyond the scope of this course."
      ]
    },
    {
      "cell_type": "code",
      "metadata": {
        "id": "6vkkgh2kECky",
        "colab": {
          "base_uri": "https://localhost:8080/"
        },
        "outputId": "7671c958-6b11-4b6a-f889-28891279790b"
      },
      "source": [
        "open = df[df['Vision']=='open']\n",
        "closed = df[df['Vision']=='closed']\n",
        "dome = df[df['Vision']=='dome']\n",
        "\n",
        "stats.f_oneway(open['CTSIB'],closed['CTSIB'],dome['CTSIB'])\n"
      ],
      "execution_count": null,
      "outputs": [
        {
          "output_type": "execute_result",
          "data": {
            "text/plain": [
              "F_onewayResult(statistic=58.18614181050539, pvalue=2.443895910280489e-23)"
            ]
          },
          "metadata": {},
          "execution_count": 22
        }
      ]
    },
    {
      "cell_type": "markdown",
      "metadata": {
        "id": "0lEd0Dp3ECkz"
      },
      "source": [
        "The p-value $<$0.05. Thus, we conclude with a certainty of 95% that there is at least one type of vision that have a different expected balance score. To find out more details, we could now do pairwise comparisons."
      ]
    },
    {
      "cell_type": "markdown",
      "metadata": {
        "id": "qN96uM65ECkz"
      },
      "source": [
        "### Beyond one-way ANOVA\n",
        "\n",
        "There are examples and code for two-way, three-way and four-way etc ANOVA out there. We don't have the time to discuss them to practise them today. You can do this example if you like (maybe with Iris data):\n",
        "\n",
        "http://www.pybloggers.com/2016/03/three-ways-to-do-a-two-way-anova-with-python/"
      ]
    },
    {
      "cell_type": "code",
      "metadata": {
        "id": "guP2gDUPECkz"
      },
      "source": [
        "from statsmodels.stats.anova import anova_lm"
      ],
      "execution_count": null,
      "outputs": []
    },
    {
      "cell_type": "markdown",
      "source": [
        "ANOVA mine"
      ],
      "metadata": {
        "id": "DOa2CEmijDnM"
      }
    },
    {
      "cell_type": "code",
      "source": [
        "import numpy as np\n",
        "import matplotlib.pyplot as plt\n",
        "import pandas as pd\n",
        "import statsmodels.api as sm\n",
        "from scipy import stats"
      ],
      "metadata": {
        "id": "dzLkSsvpjDci"
      },
      "execution_count": 4,
      "outputs": []
    },
    {
      "cell_type": "code",
      "source": [
        "#upload file from computer\n",
        "from google.colab import files\n",
        "uploaded = files.upload()"
      ],
      "metadata": {
        "id": "Il06Jqo0jDO-",
        "outputId": "48680a09-d4b0-4c48-ffa2-e12237b3e0b0",
        "colab": {
          "base_uri": "https://localhost:8080/",
          "height": 73
        }
      },
      "execution_count": 5,
      "outputs": [
        {
          "output_type": "display_data",
          "data": {
            "text/plain": [
              "<IPython.core.display.HTML object>"
            ],
            "text/html": [
              "\n",
              "     <input type=\"file\" id=\"files-19e58dbf-0c20-4524-b0de-dae0029e965d\" name=\"files[]\" multiple disabled\n",
              "        style=\"border:none\" />\n",
              "     <output id=\"result-19e58dbf-0c20-4524-b0de-dae0029e965d\">\n",
              "      Upload widget is only available when the cell has been executed in the\n",
              "      current browser session. Please rerun this cell to enable.\n",
              "      </output>\n",
              "      <script>// Copyright 2017 Google LLC\n",
              "//\n",
              "// Licensed under the Apache License, Version 2.0 (the \"License\");\n",
              "// you may not use this file except in compliance with the License.\n",
              "// You may obtain a copy of the License at\n",
              "//\n",
              "//      http://www.apache.org/licenses/LICENSE-2.0\n",
              "//\n",
              "// Unless required by applicable law or agreed to in writing, software\n",
              "// distributed under the License is distributed on an \"AS IS\" BASIS,\n",
              "// WITHOUT WARRANTIES OR CONDITIONS OF ANY KIND, either express or implied.\n",
              "// See the License for the specific language governing permissions and\n",
              "// limitations under the License.\n",
              "\n",
              "/**\n",
              " * @fileoverview Helpers for google.colab Python module.\n",
              " */\n",
              "(function(scope) {\n",
              "function span(text, styleAttributes = {}) {\n",
              "  const element = document.createElement('span');\n",
              "  element.textContent = text;\n",
              "  for (const key of Object.keys(styleAttributes)) {\n",
              "    element.style[key] = styleAttributes[key];\n",
              "  }\n",
              "  return element;\n",
              "}\n",
              "\n",
              "// Max number of bytes which will be uploaded at a time.\n",
              "const MAX_PAYLOAD_SIZE = 100 * 1024;\n",
              "\n",
              "function _uploadFiles(inputId, outputId) {\n",
              "  const steps = uploadFilesStep(inputId, outputId);\n",
              "  const outputElement = document.getElementById(outputId);\n",
              "  // Cache steps on the outputElement to make it available for the next call\n",
              "  // to uploadFilesContinue from Python.\n",
              "  outputElement.steps = steps;\n",
              "\n",
              "  return _uploadFilesContinue(outputId);\n",
              "}\n",
              "\n",
              "// This is roughly an async generator (not supported in the browser yet),\n",
              "// where there are multiple asynchronous steps and the Python side is going\n",
              "// to poll for completion of each step.\n",
              "// This uses a Promise to block the python side on completion of each step,\n",
              "// then passes the result of the previous step as the input to the next step.\n",
              "function _uploadFilesContinue(outputId) {\n",
              "  const outputElement = document.getElementById(outputId);\n",
              "  const steps = outputElement.steps;\n",
              "\n",
              "  const next = steps.next(outputElement.lastPromiseValue);\n",
              "  return Promise.resolve(next.value.promise).then((value) => {\n",
              "    // Cache the last promise value to make it available to the next\n",
              "    // step of the generator.\n",
              "    outputElement.lastPromiseValue = value;\n",
              "    return next.value.response;\n",
              "  });\n",
              "}\n",
              "\n",
              "/**\n",
              " * Generator function which is called between each async step of the upload\n",
              " * process.\n",
              " * @param {string} inputId Element ID of the input file picker element.\n",
              " * @param {string} outputId Element ID of the output display.\n",
              " * @return {!Iterable<!Object>} Iterable of next steps.\n",
              " */\n",
              "function* uploadFilesStep(inputId, outputId) {\n",
              "  const inputElement = document.getElementById(inputId);\n",
              "  inputElement.disabled = false;\n",
              "\n",
              "  const outputElement = document.getElementById(outputId);\n",
              "  outputElement.innerHTML = '';\n",
              "\n",
              "  const pickedPromise = new Promise((resolve) => {\n",
              "    inputElement.addEventListener('change', (e) => {\n",
              "      resolve(e.target.files);\n",
              "    });\n",
              "  });\n",
              "\n",
              "  const cancel = document.createElement('button');\n",
              "  inputElement.parentElement.appendChild(cancel);\n",
              "  cancel.textContent = 'Cancel upload';\n",
              "  const cancelPromise = new Promise((resolve) => {\n",
              "    cancel.onclick = () => {\n",
              "      resolve(null);\n",
              "    };\n",
              "  });\n",
              "\n",
              "  // Wait for the user to pick the files.\n",
              "  const files = yield {\n",
              "    promise: Promise.race([pickedPromise, cancelPromise]),\n",
              "    response: {\n",
              "      action: 'starting',\n",
              "    }\n",
              "  };\n",
              "\n",
              "  cancel.remove();\n",
              "\n",
              "  // Disable the input element since further picks are not allowed.\n",
              "  inputElement.disabled = true;\n",
              "\n",
              "  if (!files) {\n",
              "    return {\n",
              "      response: {\n",
              "        action: 'complete',\n",
              "      }\n",
              "    };\n",
              "  }\n",
              "\n",
              "  for (const file of files) {\n",
              "    const li = document.createElement('li');\n",
              "    li.append(span(file.name, {fontWeight: 'bold'}));\n",
              "    li.append(span(\n",
              "        `(${file.type || 'n/a'}) - ${file.size} bytes, ` +\n",
              "        `last modified: ${\n",
              "            file.lastModifiedDate ? file.lastModifiedDate.toLocaleDateString() :\n",
              "                                    'n/a'} - `));\n",
              "    const percent = span('0% done');\n",
              "    li.appendChild(percent);\n",
              "\n",
              "    outputElement.appendChild(li);\n",
              "\n",
              "    const fileDataPromise = new Promise((resolve) => {\n",
              "      const reader = new FileReader();\n",
              "      reader.onload = (e) => {\n",
              "        resolve(e.target.result);\n",
              "      };\n",
              "      reader.readAsArrayBuffer(file);\n",
              "    });\n",
              "    // Wait for the data to be ready.\n",
              "    let fileData = yield {\n",
              "      promise: fileDataPromise,\n",
              "      response: {\n",
              "        action: 'continue',\n",
              "      }\n",
              "    };\n",
              "\n",
              "    // Use a chunked sending to avoid message size limits. See b/62115660.\n",
              "    let position = 0;\n",
              "    do {\n",
              "      const length = Math.min(fileData.byteLength - position, MAX_PAYLOAD_SIZE);\n",
              "      const chunk = new Uint8Array(fileData, position, length);\n",
              "      position += length;\n",
              "\n",
              "      const base64 = btoa(String.fromCharCode.apply(null, chunk));\n",
              "      yield {\n",
              "        response: {\n",
              "          action: 'append',\n",
              "          file: file.name,\n",
              "          data: base64,\n",
              "        },\n",
              "      };\n",
              "\n",
              "      let percentDone = fileData.byteLength === 0 ?\n",
              "          100 :\n",
              "          Math.round((position / fileData.byteLength) * 100);\n",
              "      percent.textContent = `${percentDone}% done`;\n",
              "\n",
              "    } while (position < fileData.byteLength);\n",
              "  }\n",
              "\n",
              "  // All done.\n",
              "  yield {\n",
              "    response: {\n",
              "      action: 'complete',\n",
              "    }\n",
              "  };\n",
              "}\n",
              "\n",
              "scope.google = scope.google || {};\n",
              "scope.google.colab = scope.google.colab || {};\n",
              "scope.google.colab._files = {\n",
              "  _uploadFiles,\n",
              "  _uploadFilesContinue,\n",
              "};\n",
              "})(self);\n",
              "</script> "
            ]
          },
          "metadata": {}
        },
        {
          "output_type": "stream",
          "name": "stdout",
          "text": [
            "Saving metaphases.csv to metaphases.csv\n"
          ]
        }
      ]
    },
    {
      "cell_type": "code",
      "source": [
        "# Read the data in the sleep.csv file into a dataframe\n",
        "metaphases = pd.read_csv('metaphases.csv', sep=\",\")\n",
        "metaphases"
      ],
      "metadata": {
        "id": "m_qe_RukjUXG",
        "outputId": "2c03bc95-5c29-4969-d048-2264468a95f8",
        "colab": {
          "base_uri": "https://localhost:8080/",
          "height": 424
        }
      },
      "execution_count": 6,
      "outputs": [
        {
          "output_type": "execute_result",
          "data": {
            "text/plain": [
              "          NT    4d 4OHT    7d 4OHT\n",
              "0   5.555556   8.823529  14.583333\n",
              "1   0.000000   2.857143  10.204082\n",
              "2   6.818182  12.328767   7.894737\n",
              "3   2.500000  27.272727  10.788382\n",
              "4   5.319149  19.047619   4.918033\n",
              "..       ...        ...        ...\n",
              "85  9.375000   7.614213        NaN\n",
              "86  5.555556   7.843137        NaN\n",
              "87  8.333333  12.068966        NaN\n",
              "88  9.154930   9.090909        NaN\n",
              "89  8.045977  13.207547        NaN\n",
              "\n",
              "[90 rows x 3 columns]"
            ],
            "text/html": [
              "\n",
              "  <div id=\"df-75bdd838-c567-4a42-9c50-72283437d053\" class=\"colab-df-container\">\n",
              "    <div>\n",
              "<style scoped>\n",
              "    .dataframe tbody tr th:only-of-type {\n",
              "        vertical-align: middle;\n",
              "    }\n",
              "\n",
              "    .dataframe tbody tr th {\n",
              "        vertical-align: top;\n",
              "    }\n",
              "\n",
              "    .dataframe thead th {\n",
              "        text-align: right;\n",
              "    }\n",
              "</style>\n",
              "<table border=\"1\" class=\"dataframe\">\n",
              "  <thead>\n",
              "    <tr style=\"text-align: right;\">\n",
              "      <th></th>\n",
              "      <th>NT</th>\n",
              "      <th>4d 4OHT</th>\n",
              "      <th>7d 4OHT</th>\n",
              "    </tr>\n",
              "  </thead>\n",
              "  <tbody>\n",
              "    <tr>\n",
              "      <th>0</th>\n",
              "      <td>5.555556</td>\n",
              "      <td>8.823529</td>\n",
              "      <td>14.583333</td>\n",
              "    </tr>\n",
              "    <tr>\n",
              "      <th>1</th>\n",
              "      <td>0.000000</td>\n",
              "      <td>2.857143</td>\n",
              "      <td>10.204082</td>\n",
              "    </tr>\n",
              "    <tr>\n",
              "      <th>2</th>\n",
              "      <td>6.818182</td>\n",
              "      <td>12.328767</td>\n",
              "      <td>7.894737</td>\n",
              "    </tr>\n",
              "    <tr>\n",
              "      <th>3</th>\n",
              "      <td>2.500000</td>\n",
              "      <td>27.272727</td>\n",
              "      <td>10.788382</td>\n",
              "    </tr>\n",
              "    <tr>\n",
              "      <th>4</th>\n",
              "      <td>5.319149</td>\n",
              "      <td>19.047619</td>\n",
              "      <td>4.918033</td>\n",
              "    </tr>\n",
              "    <tr>\n",
              "      <th>...</th>\n",
              "      <td>...</td>\n",
              "      <td>...</td>\n",
              "      <td>...</td>\n",
              "    </tr>\n",
              "    <tr>\n",
              "      <th>85</th>\n",
              "      <td>9.375000</td>\n",
              "      <td>7.614213</td>\n",
              "      <td>NaN</td>\n",
              "    </tr>\n",
              "    <tr>\n",
              "      <th>86</th>\n",
              "      <td>5.555556</td>\n",
              "      <td>7.843137</td>\n",
              "      <td>NaN</td>\n",
              "    </tr>\n",
              "    <tr>\n",
              "      <th>87</th>\n",
              "      <td>8.333333</td>\n",
              "      <td>12.068966</td>\n",
              "      <td>NaN</td>\n",
              "    </tr>\n",
              "    <tr>\n",
              "      <th>88</th>\n",
              "      <td>9.154930</td>\n",
              "      <td>9.090909</td>\n",
              "      <td>NaN</td>\n",
              "    </tr>\n",
              "    <tr>\n",
              "      <th>89</th>\n",
              "      <td>8.045977</td>\n",
              "      <td>13.207547</td>\n",
              "      <td>NaN</td>\n",
              "    </tr>\n",
              "  </tbody>\n",
              "</table>\n",
              "<p>90 rows × 3 columns</p>\n",
              "</div>\n",
              "    <div class=\"colab-df-buttons\">\n",
              "\n",
              "  <div class=\"colab-df-container\">\n",
              "    <button class=\"colab-df-convert\" onclick=\"convertToInteractive('df-75bdd838-c567-4a42-9c50-72283437d053')\"\n",
              "            title=\"Convert this dataframe to an interactive table.\"\n",
              "            style=\"display:none;\">\n",
              "\n",
              "  <svg xmlns=\"http://www.w3.org/2000/svg\" height=\"24px\" viewBox=\"0 -960 960 960\">\n",
              "    <path d=\"M120-120v-720h720v720H120Zm60-500h600v-160H180v160Zm220 220h160v-160H400v160Zm0 220h160v-160H400v160ZM180-400h160v-160H180v160Zm440 0h160v-160H620v160ZM180-180h160v-160H180v160Zm440 0h160v-160H620v160Z\"/>\n",
              "  </svg>\n",
              "    </button>\n",
              "\n",
              "  <style>\n",
              "    .colab-df-container {\n",
              "      display:flex;\n",
              "      gap: 12px;\n",
              "    }\n",
              "\n",
              "    .colab-df-convert {\n",
              "      background-color: #E8F0FE;\n",
              "      border: none;\n",
              "      border-radius: 50%;\n",
              "      cursor: pointer;\n",
              "      display: none;\n",
              "      fill: #1967D2;\n",
              "      height: 32px;\n",
              "      padding: 0 0 0 0;\n",
              "      width: 32px;\n",
              "    }\n",
              "\n",
              "    .colab-df-convert:hover {\n",
              "      background-color: #E2EBFA;\n",
              "      box-shadow: 0px 1px 2px rgba(60, 64, 67, 0.3), 0px 1px 3px 1px rgba(60, 64, 67, 0.15);\n",
              "      fill: #174EA6;\n",
              "    }\n",
              "\n",
              "    .colab-df-buttons div {\n",
              "      margin-bottom: 4px;\n",
              "    }\n",
              "\n",
              "    [theme=dark] .colab-df-convert {\n",
              "      background-color: #3B4455;\n",
              "      fill: #D2E3FC;\n",
              "    }\n",
              "\n",
              "    [theme=dark] .colab-df-convert:hover {\n",
              "      background-color: #434B5C;\n",
              "      box-shadow: 0px 1px 3px 1px rgba(0, 0, 0, 0.15);\n",
              "      filter: drop-shadow(0px 1px 2px rgba(0, 0, 0, 0.3));\n",
              "      fill: #FFFFFF;\n",
              "    }\n",
              "  </style>\n",
              "\n",
              "    <script>\n",
              "      const buttonEl =\n",
              "        document.querySelector('#df-75bdd838-c567-4a42-9c50-72283437d053 button.colab-df-convert');\n",
              "      buttonEl.style.display =\n",
              "        google.colab.kernel.accessAllowed ? 'block' : 'none';\n",
              "\n",
              "      async function convertToInteractive(key) {\n",
              "        const element = document.querySelector('#df-75bdd838-c567-4a42-9c50-72283437d053');\n",
              "        const dataTable =\n",
              "          await google.colab.kernel.invokeFunction('convertToInteractive',\n",
              "                                                    [key], {});\n",
              "        if (!dataTable) return;\n",
              "\n",
              "        const docLinkHtml = 'Like what you see? Visit the ' +\n",
              "          '<a target=\"_blank\" href=https://colab.research.google.com/notebooks/data_table.ipynb>data table notebook</a>'\n",
              "          + ' to learn more about interactive tables.';\n",
              "        element.innerHTML = '';\n",
              "        dataTable['output_type'] = 'display_data';\n",
              "        await google.colab.output.renderOutput(dataTable, element);\n",
              "        const docLink = document.createElement('div');\n",
              "        docLink.innerHTML = docLinkHtml;\n",
              "        element.appendChild(docLink);\n",
              "      }\n",
              "    </script>\n",
              "  </div>\n",
              "\n",
              "\n",
              "<div id=\"df-8d952441-36c3-4e3b-b01c-fe0194682078\">\n",
              "  <button class=\"colab-df-quickchart\" onclick=\"quickchart('df-8d952441-36c3-4e3b-b01c-fe0194682078')\"\n",
              "            title=\"Suggest charts\"\n",
              "            style=\"display:none;\">\n",
              "\n",
              "<svg xmlns=\"http://www.w3.org/2000/svg\" height=\"24px\"viewBox=\"0 0 24 24\"\n",
              "     width=\"24px\">\n",
              "    <g>\n",
              "        <path d=\"M19 3H5c-1.1 0-2 .9-2 2v14c0 1.1.9 2 2 2h14c1.1 0 2-.9 2-2V5c0-1.1-.9-2-2-2zM9 17H7v-7h2v7zm4 0h-2V7h2v10zm4 0h-2v-4h2v4z\"/>\n",
              "    </g>\n",
              "</svg>\n",
              "  </button>\n",
              "\n",
              "<style>\n",
              "  .colab-df-quickchart {\n",
              "      --bg-color: #E8F0FE;\n",
              "      --fill-color: #1967D2;\n",
              "      --hover-bg-color: #E2EBFA;\n",
              "      --hover-fill-color: #174EA6;\n",
              "      --disabled-fill-color: #AAA;\n",
              "      --disabled-bg-color: #DDD;\n",
              "  }\n",
              "\n",
              "  [theme=dark] .colab-df-quickchart {\n",
              "      --bg-color: #3B4455;\n",
              "      --fill-color: #D2E3FC;\n",
              "      --hover-bg-color: #434B5C;\n",
              "      --hover-fill-color: #FFFFFF;\n",
              "      --disabled-bg-color: #3B4455;\n",
              "      --disabled-fill-color: #666;\n",
              "  }\n",
              "\n",
              "  .colab-df-quickchart {\n",
              "    background-color: var(--bg-color);\n",
              "    border: none;\n",
              "    border-radius: 50%;\n",
              "    cursor: pointer;\n",
              "    display: none;\n",
              "    fill: var(--fill-color);\n",
              "    height: 32px;\n",
              "    padding: 0;\n",
              "    width: 32px;\n",
              "  }\n",
              "\n",
              "  .colab-df-quickchart:hover {\n",
              "    background-color: var(--hover-bg-color);\n",
              "    box-shadow: 0 1px 2px rgba(60, 64, 67, 0.3), 0 1px 3px 1px rgba(60, 64, 67, 0.15);\n",
              "    fill: var(--button-hover-fill-color);\n",
              "  }\n",
              "\n",
              "  .colab-df-quickchart-complete:disabled,\n",
              "  .colab-df-quickchart-complete:disabled:hover {\n",
              "    background-color: var(--disabled-bg-color);\n",
              "    fill: var(--disabled-fill-color);\n",
              "    box-shadow: none;\n",
              "  }\n",
              "\n",
              "  .colab-df-spinner {\n",
              "    border: 2px solid var(--fill-color);\n",
              "    border-color: transparent;\n",
              "    border-bottom-color: var(--fill-color);\n",
              "    animation:\n",
              "      spin 1s steps(1) infinite;\n",
              "  }\n",
              "\n",
              "  @keyframes spin {\n",
              "    0% {\n",
              "      border-color: transparent;\n",
              "      border-bottom-color: var(--fill-color);\n",
              "      border-left-color: var(--fill-color);\n",
              "    }\n",
              "    20% {\n",
              "      border-color: transparent;\n",
              "      border-left-color: var(--fill-color);\n",
              "      border-top-color: var(--fill-color);\n",
              "    }\n",
              "    30% {\n",
              "      border-color: transparent;\n",
              "      border-left-color: var(--fill-color);\n",
              "      border-top-color: var(--fill-color);\n",
              "      border-right-color: var(--fill-color);\n",
              "    }\n",
              "    40% {\n",
              "      border-color: transparent;\n",
              "      border-right-color: var(--fill-color);\n",
              "      border-top-color: var(--fill-color);\n",
              "    }\n",
              "    60% {\n",
              "      border-color: transparent;\n",
              "      border-right-color: var(--fill-color);\n",
              "    }\n",
              "    80% {\n",
              "      border-color: transparent;\n",
              "      border-right-color: var(--fill-color);\n",
              "      border-bottom-color: var(--fill-color);\n",
              "    }\n",
              "    90% {\n",
              "      border-color: transparent;\n",
              "      border-bottom-color: var(--fill-color);\n",
              "    }\n",
              "  }\n",
              "</style>\n",
              "\n",
              "  <script>\n",
              "    async function quickchart(key) {\n",
              "      const quickchartButtonEl =\n",
              "        document.querySelector('#' + key + ' button');\n",
              "      quickchartButtonEl.disabled = true;  // To prevent multiple clicks.\n",
              "      quickchartButtonEl.classList.add('colab-df-spinner');\n",
              "      try {\n",
              "        const charts = await google.colab.kernel.invokeFunction(\n",
              "            'suggestCharts', [key], {});\n",
              "      } catch (error) {\n",
              "        console.error('Error during call to suggestCharts:', error);\n",
              "      }\n",
              "      quickchartButtonEl.classList.remove('colab-df-spinner');\n",
              "      quickchartButtonEl.classList.add('colab-df-quickchart-complete');\n",
              "    }\n",
              "    (() => {\n",
              "      let quickchartButtonEl =\n",
              "        document.querySelector('#df-8d952441-36c3-4e3b-b01c-fe0194682078 button');\n",
              "      quickchartButtonEl.style.display =\n",
              "        google.colab.kernel.accessAllowed ? 'block' : 'none';\n",
              "    })();\n",
              "  </script>\n",
              "</div>\n",
              "\n",
              "  <div id=\"id_f0addd37-4ec9-49b9-8917-4f8aa98532fd\">\n",
              "    <style>\n",
              "      .colab-df-generate {\n",
              "        background-color: #E8F0FE;\n",
              "        border: none;\n",
              "        border-radius: 50%;\n",
              "        cursor: pointer;\n",
              "        display: none;\n",
              "        fill: #1967D2;\n",
              "        height: 32px;\n",
              "        padding: 0 0 0 0;\n",
              "        width: 32px;\n",
              "      }\n",
              "\n",
              "      .colab-df-generate:hover {\n",
              "        background-color: #E2EBFA;\n",
              "        box-shadow: 0px 1px 2px rgba(60, 64, 67, 0.3), 0px 1px 3px 1px rgba(60, 64, 67, 0.15);\n",
              "        fill: #174EA6;\n",
              "      }\n",
              "\n",
              "      [theme=dark] .colab-df-generate {\n",
              "        background-color: #3B4455;\n",
              "        fill: #D2E3FC;\n",
              "      }\n",
              "\n",
              "      [theme=dark] .colab-df-generate:hover {\n",
              "        background-color: #434B5C;\n",
              "        box-shadow: 0px 1px 3px 1px rgba(0, 0, 0, 0.15);\n",
              "        filter: drop-shadow(0px 1px 2px rgba(0, 0, 0, 0.3));\n",
              "        fill: #FFFFFF;\n",
              "      }\n",
              "    </style>\n",
              "    <button class=\"colab-df-generate\" onclick=\"generateWithVariable('metaphases')\"\n",
              "            title=\"Generate code using this dataframe.\"\n",
              "            style=\"display:none;\">\n",
              "\n",
              "  <svg xmlns=\"http://www.w3.org/2000/svg\" height=\"24px\"viewBox=\"0 0 24 24\"\n",
              "       width=\"24px\">\n",
              "    <path d=\"M7,19H8.4L18.45,9,17,7.55,7,17.6ZM5,21V16.75L18.45,3.32a2,2,0,0,1,2.83,0l1.4,1.43a1.91,1.91,0,0,1,.58,1.4,1.91,1.91,0,0,1-.58,1.4L9.25,21ZM18.45,9,17,7.55Zm-12,3A5.31,5.31,0,0,0,4.9,8.1,5.31,5.31,0,0,0,1,6.5,5.31,5.31,0,0,0,4.9,4.9,5.31,5.31,0,0,0,6.5,1,5.31,5.31,0,0,0,8.1,4.9,5.31,5.31,0,0,0,12,6.5,5.46,5.46,0,0,0,6.5,12Z\"/>\n",
              "  </svg>\n",
              "    </button>\n",
              "    <script>\n",
              "      (() => {\n",
              "      const buttonEl =\n",
              "        document.querySelector('#id_f0addd37-4ec9-49b9-8917-4f8aa98532fd button.colab-df-generate');\n",
              "      buttonEl.style.display =\n",
              "        google.colab.kernel.accessAllowed ? 'block' : 'none';\n",
              "\n",
              "      buttonEl.onclick = () => {\n",
              "        google.colab.notebook.generateWithVariable('metaphases');\n",
              "      }\n",
              "      })();\n",
              "    </script>\n",
              "  </div>\n",
              "\n",
              "    </div>\n",
              "  </div>\n"
            ],
            "application/vnd.google.colaboratory.intrinsic+json": {
              "type": "dataframe",
              "variable_name": "metaphases",
              "summary": "{\n  \"name\": \"metaphases\",\n  \"rows\": 90,\n  \"fields\": [\n    {\n      \"column\": \"NT\",\n      \"properties\": {\n        \"dtype\": \"number\",\n        \"std\": 3.763828336533878,\n        \"min\": 0.0,\n        \"max\": 16.66666667,\n        \"num_unique_values\": 69,\n        \"samples\": [\n          4.918032787,\n          5.555555556,\n          3.75\n        ],\n        \"semantic_type\": \"\",\n        \"description\": \"\"\n      }\n    },\n    {\n      \"column\": \"4d 4OHT\",\n      \"properties\": {\n        \"dtype\": \"number\",\n        \"std\": 4.832582105662794,\n        \"min\": 0.0,\n        \"max\": 27.27272727,\n        \"num_unique_values\": 82,\n        \"samples\": [\n          7.692307692,\n          8.823529412,\n          11.76470588\n        ],\n        \"semantic_type\": \"\",\n        \"description\": \"\"\n      }\n    },\n    {\n      \"column\": \"7d 4OHT\",\n      \"properties\": {\n        \"dtype\": \"number\",\n        \"std\": 6.226041663782607,\n        \"min\": 3.703703704,\n        \"max\": 34.09090909,\n        \"num_unique_values\": 47,\n        \"samples\": [\n          30.0,\n          34.09090909,\n          32.35294118\n        ],\n        \"semantic_type\": \"\",\n        \"description\": \"\"\n      }\n    }\n  ]\n}"
            }
          },
          "metadata": {},
          "execution_count": 6
        }
      ]
    },
    {
      "cell_type": "code",
      "source": [
        "# test normality NT\n",
        "k2, p = stats.normaltest(metaphases['NT']) # D Agostino-Pearson. The method returns the test statistic value and the p-value\n",
        "alpha = 0.001 # Rejection criterion defined by you\n",
        "print('Alpha = ',alpha)\n",
        "print('p = ',p)\n",
        "if p < alpha:  # null hypothesis: x comes from a normal distribution\n",
        "     print(\"The null hypothesis can be rejected\")\n",
        "else:\n",
        "  print(\"The null hypothesis cannot be rejected\")"
      ],
      "metadata": {
        "id": "i5llV5q5jCtp",
        "outputId": "1cec818c-6595-4e43-eb9c-cc469ba1c146",
        "colab": {
          "base_uri": "https://localhost:8080/"
        }
      },
      "execution_count": 7,
      "outputs": [
        {
          "output_type": "stream",
          "name": "stdout",
          "text": [
            "Alpha =  0.001\n",
            "p =  0.001053845677015356\n",
            "The null hypothesis cannot be rejected\n"
          ]
        }
      ]
    },
    {
      "cell_type": "code",
      "source": [
        "# test normality 4d 4OHT\n",
        "k2, p = stats.normaltest(metaphases['4d 4OHT']) # D Agostino-Pearson. The method returns the test statistic value and the p-value\n",
        "alpha = 0.001 # Rejection criterion defined by you\n",
        "print('Alpha = ',alpha)\n",
        "print('p = ',p)\n",
        "if p < alpha:  # null hypothesis: x comes from a normal distribution\n",
        "     print(\"The null hypothesis can be rejected\")\n",
        "else:\n",
        "  print(\"The null hypothesis cannot be rejected\")"
      ],
      "metadata": {
        "id": "z8Zfvkcnjr2M",
        "outputId": "5790ada9-32c0-487b-b1fd-c0691b626cea",
        "colab": {
          "base_uri": "https://localhost:8080/"
        }
      },
      "execution_count": 8,
      "outputs": [
        {
          "output_type": "stream",
          "name": "stdout",
          "text": [
            "Alpha =  0.001\n",
            "p =  0.005817717707354294\n",
            "The null hypothesis cannot be rejected\n"
          ]
        }
      ]
    },
    {
      "cell_type": "code",
      "source": [
        "# test normality 7d 4OHT\n",
        "metaphases_clean = metaphases.dropna()\n",
        "k2, p = stats.normaltest(metaphases_clean['7d 4OHT']) # D Agostino-Pearson. The method returns the test statistic value and the p-value\n",
        "alpha = 0.001 # Rejection criterion defined by you\n",
        "print('Alpha = ',alpha)\n",
        "print('p = ',p)\n",
        "if p < alpha:  # null hypothesis: x comes from a normal distribution\n",
        "     print(\"The null hypothesis can be rejected\")\n",
        "else:\n",
        "  print(\"The null hypothesis cannot be rejected\")"
      ],
      "metadata": {
        "id": "zC6XsO1Sj0wR",
        "outputId": "b93fe071-01bb-4b02-dd08-571d84821ad5",
        "colab": {
          "base_uri": "https://localhost:8080/"
        }
      },
      "execution_count": 9,
      "outputs": [
        {
          "output_type": "stream",
          "name": "stdout",
          "text": [
            "Alpha =  0.001\n",
            "p =  0.0003441941878988728\n",
            "The null hypothesis can be rejected\n"
          ]
        }
      ]
    },
    {
      "cell_type": "code",
      "source": [],
      "metadata": {
        "id": "SfPoFH6fUzvs"
      },
      "execution_count": null,
      "outputs": []
    },
    {
      "cell_type": "code",
      "source": [
        "metaphases_clean"
      ],
      "metadata": {
        "id": "cW2JXmGVk-m2",
        "outputId": "f3be83e7-57b0-4ae4-c20a-6414e7884a7c",
        "colab": {
          "base_uri": "https://localhost:8080/",
          "height": 424
        }
      },
      "execution_count": 10,
      "outputs": [
        {
          "output_type": "execute_result",
          "data": {
            "text/plain": [
              "           NT    4d 4OHT    7d 4OHT\n",
              "0    5.555556   8.823529  14.583333\n",
              "1    0.000000   2.857143  10.204082\n",
              "2    6.818182  12.328767   7.894737\n",
              "3    2.500000  27.272727  10.788382\n",
              "4    5.319149  19.047619   4.918033\n",
              "..        ...        ...        ...\n",
              "73   3.424658   8.333333   9.375000\n",
              "74   6.666667  15.841584  20.454545\n",
              "75   2.857143   6.703911  12.195122\n",
              "76   6.060606  18.750000  19.444444\n",
              "77  16.666667   6.666667  17.164179\n",
              "\n",
              "[78 rows x 3 columns]"
            ],
            "text/html": [
              "\n",
              "  <div id=\"df-3ab482f7-2b17-4dcd-82c0-7a0ed9f43b5a\" class=\"colab-df-container\">\n",
              "    <div>\n",
              "<style scoped>\n",
              "    .dataframe tbody tr th:only-of-type {\n",
              "        vertical-align: middle;\n",
              "    }\n",
              "\n",
              "    .dataframe tbody tr th {\n",
              "        vertical-align: top;\n",
              "    }\n",
              "\n",
              "    .dataframe thead th {\n",
              "        text-align: right;\n",
              "    }\n",
              "</style>\n",
              "<table border=\"1\" class=\"dataframe\">\n",
              "  <thead>\n",
              "    <tr style=\"text-align: right;\">\n",
              "      <th></th>\n",
              "      <th>NT</th>\n",
              "      <th>4d 4OHT</th>\n",
              "      <th>7d 4OHT</th>\n",
              "    </tr>\n",
              "  </thead>\n",
              "  <tbody>\n",
              "    <tr>\n",
              "      <th>0</th>\n",
              "      <td>5.555556</td>\n",
              "      <td>8.823529</td>\n",
              "      <td>14.583333</td>\n",
              "    </tr>\n",
              "    <tr>\n",
              "      <th>1</th>\n",
              "      <td>0.000000</td>\n",
              "      <td>2.857143</td>\n",
              "      <td>10.204082</td>\n",
              "    </tr>\n",
              "    <tr>\n",
              "      <th>2</th>\n",
              "      <td>6.818182</td>\n",
              "      <td>12.328767</td>\n",
              "      <td>7.894737</td>\n",
              "    </tr>\n",
              "    <tr>\n",
              "      <th>3</th>\n",
              "      <td>2.500000</td>\n",
              "      <td>27.272727</td>\n",
              "      <td>10.788382</td>\n",
              "    </tr>\n",
              "    <tr>\n",
              "      <th>4</th>\n",
              "      <td>5.319149</td>\n",
              "      <td>19.047619</td>\n",
              "      <td>4.918033</td>\n",
              "    </tr>\n",
              "    <tr>\n",
              "      <th>...</th>\n",
              "      <td>...</td>\n",
              "      <td>...</td>\n",
              "      <td>...</td>\n",
              "    </tr>\n",
              "    <tr>\n",
              "      <th>73</th>\n",
              "      <td>3.424658</td>\n",
              "      <td>8.333333</td>\n",
              "      <td>9.375000</td>\n",
              "    </tr>\n",
              "    <tr>\n",
              "      <th>74</th>\n",
              "      <td>6.666667</td>\n",
              "      <td>15.841584</td>\n",
              "      <td>20.454545</td>\n",
              "    </tr>\n",
              "    <tr>\n",
              "      <th>75</th>\n",
              "      <td>2.857143</td>\n",
              "      <td>6.703911</td>\n",
              "      <td>12.195122</td>\n",
              "    </tr>\n",
              "    <tr>\n",
              "      <th>76</th>\n",
              "      <td>6.060606</td>\n",
              "      <td>18.750000</td>\n",
              "      <td>19.444444</td>\n",
              "    </tr>\n",
              "    <tr>\n",
              "      <th>77</th>\n",
              "      <td>16.666667</td>\n",
              "      <td>6.666667</td>\n",
              "      <td>17.164179</td>\n",
              "    </tr>\n",
              "  </tbody>\n",
              "</table>\n",
              "<p>78 rows × 3 columns</p>\n",
              "</div>\n",
              "    <div class=\"colab-df-buttons\">\n",
              "\n",
              "  <div class=\"colab-df-container\">\n",
              "    <button class=\"colab-df-convert\" onclick=\"convertToInteractive('df-3ab482f7-2b17-4dcd-82c0-7a0ed9f43b5a')\"\n",
              "            title=\"Convert this dataframe to an interactive table.\"\n",
              "            style=\"display:none;\">\n",
              "\n",
              "  <svg xmlns=\"http://www.w3.org/2000/svg\" height=\"24px\" viewBox=\"0 -960 960 960\">\n",
              "    <path d=\"M120-120v-720h720v720H120Zm60-500h600v-160H180v160Zm220 220h160v-160H400v160Zm0 220h160v-160H400v160ZM180-400h160v-160H180v160Zm440 0h160v-160H620v160ZM180-180h160v-160H180v160Zm440 0h160v-160H620v160Z\"/>\n",
              "  </svg>\n",
              "    </button>\n",
              "\n",
              "  <style>\n",
              "    .colab-df-container {\n",
              "      display:flex;\n",
              "      gap: 12px;\n",
              "    }\n",
              "\n",
              "    .colab-df-convert {\n",
              "      background-color: #E8F0FE;\n",
              "      border: none;\n",
              "      border-radius: 50%;\n",
              "      cursor: pointer;\n",
              "      display: none;\n",
              "      fill: #1967D2;\n",
              "      height: 32px;\n",
              "      padding: 0 0 0 0;\n",
              "      width: 32px;\n",
              "    }\n",
              "\n",
              "    .colab-df-convert:hover {\n",
              "      background-color: #E2EBFA;\n",
              "      box-shadow: 0px 1px 2px rgba(60, 64, 67, 0.3), 0px 1px 3px 1px rgba(60, 64, 67, 0.15);\n",
              "      fill: #174EA6;\n",
              "    }\n",
              "\n",
              "    .colab-df-buttons div {\n",
              "      margin-bottom: 4px;\n",
              "    }\n",
              "\n",
              "    [theme=dark] .colab-df-convert {\n",
              "      background-color: #3B4455;\n",
              "      fill: #D2E3FC;\n",
              "    }\n",
              "\n",
              "    [theme=dark] .colab-df-convert:hover {\n",
              "      background-color: #434B5C;\n",
              "      box-shadow: 0px 1px 3px 1px rgba(0, 0, 0, 0.15);\n",
              "      filter: drop-shadow(0px 1px 2px rgba(0, 0, 0, 0.3));\n",
              "      fill: #FFFFFF;\n",
              "    }\n",
              "  </style>\n",
              "\n",
              "    <script>\n",
              "      const buttonEl =\n",
              "        document.querySelector('#df-3ab482f7-2b17-4dcd-82c0-7a0ed9f43b5a button.colab-df-convert');\n",
              "      buttonEl.style.display =\n",
              "        google.colab.kernel.accessAllowed ? 'block' : 'none';\n",
              "\n",
              "      async function convertToInteractive(key) {\n",
              "        const element = document.querySelector('#df-3ab482f7-2b17-4dcd-82c0-7a0ed9f43b5a');\n",
              "        const dataTable =\n",
              "          await google.colab.kernel.invokeFunction('convertToInteractive',\n",
              "                                                    [key], {});\n",
              "        if (!dataTable) return;\n",
              "\n",
              "        const docLinkHtml = 'Like what you see? Visit the ' +\n",
              "          '<a target=\"_blank\" href=https://colab.research.google.com/notebooks/data_table.ipynb>data table notebook</a>'\n",
              "          + ' to learn more about interactive tables.';\n",
              "        element.innerHTML = '';\n",
              "        dataTable['output_type'] = 'display_data';\n",
              "        await google.colab.output.renderOutput(dataTable, element);\n",
              "        const docLink = document.createElement('div');\n",
              "        docLink.innerHTML = docLinkHtml;\n",
              "        element.appendChild(docLink);\n",
              "      }\n",
              "    </script>\n",
              "  </div>\n",
              "\n",
              "\n",
              "<div id=\"df-2b37d5db-6d4c-470b-be18-c4c01908facf\">\n",
              "  <button class=\"colab-df-quickchart\" onclick=\"quickchart('df-2b37d5db-6d4c-470b-be18-c4c01908facf')\"\n",
              "            title=\"Suggest charts\"\n",
              "            style=\"display:none;\">\n",
              "\n",
              "<svg xmlns=\"http://www.w3.org/2000/svg\" height=\"24px\"viewBox=\"0 0 24 24\"\n",
              "     width=\"24px\">\n",
              "    <g>\n",
              "        <path d=\"M19 3H5c-1.1 0-2 .9-2 2v14c0 1.1.9 2 2 2h14c1.1 0 2-.9 2-2V5c0-1.1-.9-2-2-2zM9 17H7v-7h2v7zm4 0h-2V7h2v10zm4 0h-2v-4h2v4z\"/>\n",
              "    </g>\n",
              "</svg>\n",
              "  </button>\n",
              "\n",
              "<style>\n",
              "  .colab-df-quickchart {\n",
              "      --bg-color: #E8F0FE;\n",
              "      --fill-color: #1967D2;\n",
              "      --hover-bg-color: #E2EBFA;\n",
              "      --hover-fill-color: #174EA6;\n",
              "      --disabled-fill-color: #AAA;\n",
              "      --disabled-bg-color: #DDD;\n",
              "  }\n",
              "\n",
              "  [theme=dark] .colab-df-quickchart {\n",
              "      --bg-color: #3B4455;\n",
              "      --fill-color: #D2E3FC;\n",
              "      --hover-bg-color: #434B5C;\n",
              "      --hover-fill-color: #FFFFFF;\n",
              "      --disabled-bg-color: #3B4455;\n",
              "      --disabled-fill-color: #666;\n",
              "  }\n",
              "\n",
              "  .colab-df-quickchart {\n",
              "    background-color: var(--bg-color);\n",
              "    border: none;\n",
              "    border-radius: 50%;\n",
              "    cursor: pointer;\n",
              "    display: none;\n",
              "    fill: var(--fill-color);\n",
              "    height: 32px;\n",
              "    padding: 0;\n",
              "    width: 32px;\n",
              "  }\n",
              "\n",
              "  .colab-df-quickchart:hover {\n",
              "    background-color: var(--hover-bg-color);\n",
              "    box-shadow: 0 1px 2px rgba(60, 64, 67, 0.3), 0 1px 3px 1px rgba(60, 64, 67, 0.15);\n",
              "    fill: var(--button-hover-fill-color);\n",
              "  }\n",
              "\n",
              "  .colab-df-quickchart-complete:disabled,\n",
              "  .colab-df-quickchart-complete:disabled:hover {\n",
              "    background-color: var(--disabled-bg-color);\n",
              "    fill: var(--disabled-fill-color);\n",
              "    box-shadow: none;\n",
              "  }\n",
              "\n",
              "  .colab-df-spinner {\n",
              "    border: 2px solid var(--fill-color);\n",
              "    border-color: transparent;\n",
              "    border-bottom-color: var(--fill-color);\n",
              "    animation:\n",
              "      spin 1s steps(1) infinite;\n",
              "  }\n",
              "\n",
              "  @keyframes spin {\n",
              "    0% {\n",
              "      border-color: transparent;\n",
              "      border-bottom-color: var(--fill-color);\n",
              "      border-left-color: var(--fill-color);\n",
              "    }\n",
              "    20% {\n",
              "      border-color: transparent;\n",
              "      border-left-color: var(--fill-color);\n",
              "      border-top-color: var(--fill-color);\n",
              "    }\n",
              "    30% {\n",
              "      border-color: transparent;\n",
              "      border-left-color: var(--fill-color);\n",
              "      border-top-color: var(--fill-color);\n",
              "      border-right-color: var(--fill-color);\n",
              "    }\n",
              "    40% {\n",
              "      border-color: transparent;\n",
              "      border-right-color: var(--fill-color);\n",
              "      border-top-color: var(--fill-color);\n",
              "    }\n",
              "    60% {\n",
              "      border-color: transparent;\n",
              "      border-right-color: var(--fill-color);\n",
              "    }\n",
              "    80% {\n",
              "      border-color: transparent;\n",
              "      border-right-color: var(--fill-color);\n",
              "      border-bottom-color: var(--fill-color);\n",
              "    }\n",
              "    90% {\n",
              "      border-color: transparent;\n",
              "      border-bottom-color: var(--fill-color);\n",
              "    }\n",
              "  }\n",
              "</style>\n",
              "\n",
              "  <script>\n",
              "    async function quickchart(key) {\n",
              "      const quickchartButtonEl =\n",
              "        document.querySelector('#' + key + ' button');\n",
              "      quickchartButtonEl.disabled = true;  // To prevent multiple clicks.\n",
              "      quickchartButtonEl.classList.add('colab-df-spinner');\n",
              "      try {\n",
              "        const charts = await google.colab.kernel.invokeFunction(\n",
              "            'suggestCharts', [key], {});\n",
              "      } catch (error) {\n",
              "        console.error('Error during call to suggestCharts:', error);\n",
              "      }\n",
              "      quickchartButtonEl.classList.remove('colab-df-spinner');\n",
              "      quickchartButtonEl.classList.add('colab-df-quickchart-complete');\n",
              "    }\n",
              "    (() => {\n",
              "      let quickchartButtonEl =\n",
              "        document.querySelector('#df-2b37d5db-6d4c-470b-be18-c4c01908facf button');\n",
              "      quickchartButtonEl.style.display =\n",
              "        google.colab.kernel.accessAllowed ? 'block' : 'none';\n",
              "    })();\n",
              "  </script>\n",
              "</div>\n",
              "\n",
              "  <div id=\"id_030d2c84-30bb-4fdf-8258-5badd970a36d\">\n",
              "    <style>\n",
              "      .colab-df-generate {\n",
              "        background-color: #E8F0FE;\n",
              "        border: none;\n",
              "        border-radius: 50%;\n",
              "        cursor: pointer;\n",
              "        display: none;\n",
              "        fill: #1967D2;\n",
              "        height: 32px;\n",
              "        padding: 0 0 0 0;\n",
              "        width: 32px;\n",
              "      }\n",
              "\n",
              "      .colab-df-generate:hover {\n",
              "        background-color: #E2EBFA;\n",
              "        box-shadow: 0px 1px 2px rgba(60, 64, 67, 0.3), 0px 1px 3px 1px rgba(60, 64, 67, 0.15);\n",
              "        fill: #174EA6;\n",
              "      }\n",
              "\n",
              "      [theme=dark] .colab-df-generate {\n",
              "        background-color: #3B4455;\n",
              "        fill: #D2E3FC;\n",
              "      }\n",
              "\n",
              "      [theme=dark] .colab-df-generate:hover {\n",
              "        background-color: #434B5C;\n",
              "        box-shadow: 0px 1px 3px 1px rgba(0, 0, 0, 0.15);\n",
              "        filter: drop-shadow(0px 1px 2px rgba(0, 0, 0, 0.3));\n",
              "        fill: #FFFFFF;\n",
              "      }\n",
              "    </style>\n",
              "    <button class=\"colab-df-generate\" onclick=\"generateWithVariable('metaphases_clean')\"\n",
              "            title=\"Generate code using this dataframe.\"\n",
              "            style=\"display:none;\">\n",
              "\n",
              "  <svg xmlns=\"http://www.w3.org/2000/svg\" height=\"24px\"viewBox=\"0 0 24 24\"\n",
              "       width=\"24px\">\n",
              "    <path d=\"M7,19H8.4L18.45,9,17,7.55,7,17.6ZM5,21V16.75L18.45,3.32a2,2,0,0,1,2.83,0l1.4,1.43a1.91,1.91,0,0,1,.58,1.4,1.91,1.91,0,0,1-.58,1.4L9.25,21ZM18.45,9,17,7.55Zm-12,3A5.31,5.31,0,0,0,4.9,8.1,5.31,5.31,0,0,0,1,6.5,5.31,5.31,0,0,0,4.9,4.9,5.31,5.31,0,0,0,6.5,1,5.31,5.31,0,0,0,8.1,4.9,5.31,5.31,0,0,0,12,6.5,5.46,5.46,0,0,0,6.5,12Z\"/>\n",
              "  </svg>\n",
              "    </button>\n",
              "    <script>\n",
              "      (() => {\n",
              "      const buttonEl =\n",
              "        document.querySelector('#id_030d2c84-30bb-4fdf-8258-5badd970a36d button.colab-df-generate');\n",
              "      buttonEl.style.display =\n",
              "        google.colab.kernel.accessAllowed ? 'block' : 'none';\n",
              "\n",
              "      buttonEl.onclick = () => {\n",
              "        google.colab.notebook.generateWithVariable('metaphases_clean');\n",
              "      }\n",
              "      })();\n",
              "    </script>\n",
              "  </div>\n",
              "\n",
              "    </div>\n",
              "  </div>\n"
            ],
            "application/vnd.google.colaboratory.intrinsic+json": {
              "type": "dataframe",
              "variable_name": "metaphases_clean",
              "summary": "{\n  \"name\": \"metaphases_clean\",\n  \"rows\": 78,\n  \"fields\": [\n    {\n      \"column\": \"NT\",\n      \"properties\": {\n        \"dtype\": \"number\",\n        \"std\": 3.4393581592436617,\n        \"min\": 0.0,\n        \"max\": 16.66666667,\n        \"num_unique_values\": 60,\n        \"samples\": [\n          5.555555556,\n          6.349206349,\n          6.329113924\n        ],\n        \"semantic_type\": \"\",\n        \"description\": \"\"\n      }\n    },\n    {\n      \"column\": \"4d 4OHT\",\n      \"properties\": {\n        \"dtype\": \"number\",\n        \"std\": 5.03463674467193,\n        \"min\": 0.0,\n        \"max\": 27.27272727,\n        \"num_unique_values\": 72,\n        \"samples\": [\n          19.04761905,\n          3.125,\n          10.12658228\n        ],\n        \"semantic_type\": \"\",\n        \"description\": \"\"\n      }\n    },\n    {\n      \"column\": \"7d 4OHT\",\n      \"properties\": {\n        \"dtype\": \"number\",\n        \"std\": 6.226041663782607,\n        \"min\": 3.703703704,\n        \"max\": 34.09090909,\n        \"num_unique_values\": 47,\n        \"samples\": [\n          30.0,\n          34.09090909,\n          32.35294118\n        ],\n        \"semantic_type\": \"\",\n        \"description\": \"\"\n      }\n    }\n  ]\n}"
            }
          },
          "metadata": {},
          "execution_count": 10
        }
      ]
    },
    {
      "cell_type": "code",
      "source": [
        "# Q-Q-Plot of height\n",
        "fig=sm.qqplot(metaphases['NT'], line='s')\n",
        "# legend\n",
        "plt.legend(['NT'])\n",
        "plt.show()"
      ],
      "metadata": {
        "id": "RYJ-k7MhkhvM",
        "outputId": "85f20951-d8be-464f-f8f1-e229cbb63a31",
        "colab": {
          "base_uri": "https://localhost:8080/",
          "height": 449
        }
      },
      "execution_count": 11,
      "outputs": [
        {
          "output_type": "display_data",
          "data": {
            "text/plain": [
              "<Figure size 640x480 with 1 Axes>"
            ],
            "image/png": "[encoded data removed]"
          },
          "metadata": {}
        }
      ]
    },
    {
      "cell_type": "code",
      "source": [
        "# Q-Q-Plot of height\n",
        "fig=sm.qqplot(metaphases['4d 4OHT'], line='s')\n",
        "plt.legend(['4d 4OHT'])\n",
        "plt.show()"
      ],
      "metadata": {
        "id": "X2ESb5XMkulm",
        "outputId": "f1eb717e-c696-4b80-8762-91bca3eee651",
        "colab": {
          "base_uri": "https://localhost:8080/",
          "height": 449
        }
      },
      "execution_count": 12,
      "outputs": [
        {
          "output_type": "display_data",
          "data": {
            "text/plain": [
              "<Figure size 640x480 with 1 Axes>"
            ],
            "image/png": "[encoded data removed]"
          },
          "metadata": {}
        }
      ]
    },
    {
      "cell_type": "code",
      "source": [
        "# Q-Q-Plot of height\n",
        "fig=sm.qqplot(metaphases_clean['7d 4OHT'], line='s')\n",
        "plt.legend(['7d 4OHT'])\n",
        "plt.show()"
      ],
      "metadata": {
        "id": "7jLJiMtDkya6",
        "outputId": "3fafbe1d-939d-4b45-81e5-6253aa1afe64",
        "colab": {
          "base_uri": "https://localhost:8080/",
          "height": 449
        }
      },
      "execution_count": 13,
      "outputs": [
        {
          "output_type": "display_data",
          "data": {
            "text/plain": [
              "<Figure size 640x480 with 1 Axes>"
            ],
            "image/png": "[encoded data removed]"
          },
          "metadata": {}
        }
      ]
    },
    {
      "cell_type": "code",
      "source": [],
      "metadata": {
        "id": "rdtggoo8VKCv"
      },
      "execution_count": null,
      "outputs": []
    },
    {
      "cell_type": "code",
      "source": [
        "#ANOVA comparison of NT 4d OHT and 7d 4OHT\n",
        "NT=metaphases['NT']\n",
        "four_days=metaphases['4d 4OHT']\n",
        "seven_days =metaphases_clean['7d 4OHT']\n",
        "stats.f_oneway(NT, four_days, seven_days, axis=0, nan_policy='omit', keepdims=False)\n"
      ],
      "metadata": {
        "id": "lR1QDrBOmWlG",
        "outputId": "a74023c5-a4e9-4adf-c095-7a0d732ba0f6",
        "colab": {
          "base_uri": "https://localhost:8080/"
        }
      },
      "execution_count": 14,
      "outputs": [
        {
          "output_type": "execute_result",
          "data": {
            "text/plain": [
              "F_onewayResult(statistic=88.09220311110842, pvalue=8.2098384943912e-30)"
            ]
          },
          "metadata": {},
          "execution_count": 14
        }
      ]
    },
    {
      "cell_type": "code",
      "source": [
        "#calculate variances\n",
        " [np.var(x, ddof=1) for x in [NT, four_days, seven_days]]"
      ],
      "metadata": {
        "colab": {
          "base_uri": "https://localhost:8080/"
        },
        "id": "-xLL9rIoZLjx",
        "outputId": "0811fd77-be1a-469f-d8dd-509343d18f65"
      },
      "execution_count": 19,
      "outputs": [
        {
          "output_type": "execute_result",
          "data": {
            "text/plain": [
              "[14.166403746895378, 23.35384980797224, 38.7635947991569]"
            ]
          },
          "metadata": {},
          "execution_count": 19
        }
      ]
    },
    {
      "cell_type": "code",
      "source": [
        "#Levene's Test in Python\n",
        "from scipy.stats import levene\n",
        "levene(NT, four_days, seven_days, center='median', proportiontocut=0.05, axis=0, nan_policy='omit', keepdims=False)\n",
        "statistic, pvalue = levene(NT, four_days, seven_days, center='median', proportiontocut=0.05, axis=0, nan_policy='omit', keepdims=False) # store result in tuple\n",
        "if pvalue < 0.05:\n",
        "     print(\"Reject the null hypothesis\")\n",
        "else:\n",
        "     print(\"Fail to reject the null hypothesis\")"
      ],
      "metadata": {
        "colab": {
          "base_uri": "https://localhost:8080/"
        },
        "id": "djfa8bjqVN2f",
        "outputId": "92752ea9-8bbf-4c96-c3ad-92da34bcb893"
      },
      "execution_count": 24,
      "outputs": [
        {
          "output_type": "stream",
          "name": "stdout",
          "text": [
            "Reject the null hypothesis\n"
          ]
        }
      ]
    },
    {
      "cell_type": "code",
      "source": [
        "import statsmodels.api as sm\n",
        "from statsmodels.formula.api import ols\n",
        "from statsmodels.stats.multicomp import pairwise_tukeyhsd\n"
      ],
      "metadata": {
        "id": "eB2B51GqFVKw"
      },
      "execution_count": null,
      "outputs": []
    },
    {
      "cell_type": "code",
      "source": [
        "import statsmodels.api as sm\n",
        "from statsmodels.formula.api import ols\n",
        "from statsmodels.stats.multicomp import pairwise_tukeyhsd\n",
        "import numpy as np\n",
        "\n",
        "# Create a 1D array of group labels\n",
        "groups = np.concatenate([\n",
        "    np.repeat('NT', len(metaphases['NT'])),\n",
        "    np.repeat('4d 4OHT', len(metaphases['4d 4OHT'])),\n",
        "    np.repeat('7d 4OHT', len(metaphases_clean['7d 4OHT']))\n",
        "])\n",
        "\n",
        "# Concatenate the data into a 1D array\n",
        "endog = np.concatenate([\n",
        "    metaphases['NT'],\n",
        "    metaphases['4d 4OHT'],\n",
        "    metaphases_clean['7d 4OHT']\n",
        "])\n",
        "\n",
        "multiple_comp_result = pairwise_tukeyhsd(endog=endog,\n",
        "                                         groups=groups,\n",
        "                                         alpha=0.05)\n",
        "print(multiple_comp_result.summary())"
      ],
      "metadata": {
        "id": "D7jij2p1INwm",
        "outputId": "90f8a965-3b18-4b00-fdfb-d17e4c8dd35a",
        "colab": {
          "base_uri": "https://localhost:8080/"
        }
      },
      "execution_count": null,
      "outputs": [
        {
          "output_type": "stream",
          "name": "stdout",
          "text": [
            " Multiple Comparison of Means - Tukey HSD, FWER=0.05  \n",
            "======================================================\n",
            " group1  group2 meandiff p-adj  lower    upper  reject\n",
            "------------------------------------------------------\n",
            "4d 4OHT 7d 4OHT   4.6503   0.0   2.8341  6.4665   True\n",
            "4d 4OHT      NT  -5.5311   0.0  -7.2812  -3.781   True\n",
            "7d 4OHT      NT -10.1814   0.0 -11.9976 -8.3652   True\n",
            "------------------------------------------------------\n"
          ]
        }
      ]
    },
    {
      "cell_type": "code",
      "source": [],
      "metadata": {
        "id": "xLhTVWWHINp0"
      },
      "execution_count": null,
      "outputs": []
    }
  ]
}